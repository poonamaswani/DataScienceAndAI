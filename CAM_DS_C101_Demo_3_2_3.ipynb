{
  "nbformat": 4,
  "nbformat_minor": 0,
  "metadata": {
    "colab": {
      "provenance": [],
      "include_colab_link": true
    },
    "kernelspec": {
      "name": "python3",
      "display_name": "Python 3"
    },
    "language_info": {
      "name": "python"
    }
  },
  "cells": [
    {
      "cell_type": "markdown",
      "metadata": {
        "id": "view-in-github",
        "colab_type": "text"
      },
      "source": [
        "<a href=\"https://colab.research.google.com/github/poonamaswani/DataScienceAndAI/blob/main/CAM_DS_C101_Demo_3_2_3.ipynb\" target=\"_parent\"><img src=\"https://colab.research.google.com/assets/colab-badge.svg\" alt=\"Open In Colab\"/></a>"
      ]
    },
    {
      "cell_type": "markdown",
      "source": [
        "**First things first** - please go to 'File' and select 'Save a copy in Drive' so that you have your own version of this activity set up and ready to use.\n",
        "Remember to update the portfolio index link to your own work once completed!"
      ],
      "metadata": {
        "id": "YbolERTIV-sa"
      }
    },
    {
      "cell_type": "markdown",
      "source": [
        "# 3.2.3 Exploring the Mann-Whitney U and Wilcoxon signed-rank tests\n",
        "\n",
        "Follow the demonstration to learn how to perform a Mann–Whitney U and Wilcoxon signed-rank test in Python. In this video, you will learn how to:\n",
        "- Perform a Mann-Whitney U test.\n",
        "- Perform a Wilcoxon signed-rank test.\n",
        "- Interpret the output of these tests."
      ],
      "metadata": {
        "id": "b9SQsR4WZBbN"
      }
    },
    {
      "cell_type": "markdown",
      "source": [
        "## a. Mann–Whitney U test\n",
        "Also known as the Wilcoxon rank-sum test, the Mann–Whitney U test is a non-parametric statistical test employed to compare the difference(s) between two independent groups.\n",
        "\n",
        "Consider the following scenario: AB Consulting is conducting a survey among their employees to determine the effectiveness of two training programmes in improving employee productivity. They divide the participants into two groups of eight people. Participants have to write a test after completing the training programme. The higher the mark, the better the productivity of the participants. The following table indicates the test scores of participants out of 40:\n",
        "\n",
        "|Group 1|Group 2|\n",
        "|---|---|\n",
        "12|18|\n",
        "14|20|\n",
        "15|21|\n",
        "19|25|\n",
        "22|28|\n",
        "24|33|\n",
        "29|36|\n",
        "30|40|\n",
        "\n",
        "The hypotheses are:\n",
        "- $H_0$: There is no difference in median productivity between the two groups.\n",
        "- $H_1$: There is a significant difference in median productivity between the two groups.\n",
        "\n"
      ],
      "metadata": {
        "id": "UTSwYMzoZxdi"
      }
    },
    {
      "cell_type": "code",
      "execution_count": null,
      "metadata": {
        "id": "N5zQA1ViI9pp"
      },
      "outputs": [],
      "source": [
        "# Import the necessary libraries.\n",
        "import numpy as np\n",
        "from scipy.stats import mannwhitneyu"
      ]
    },
    {
      "cell_type": "code",
      "source": [
        "# Create sample data for the Mann–Whitney U test.\n",
        "group1 = np.array([12, 14, 15, 19,\n",
        "                   22, 24, 29, 30])\n",
        "group2 = np.array([18, 20, 21, 25,\n",
        "                   28, 33, 36, 40])"
      ],
      "metadata": {
        "id": "pEnPzdHAJUfN"
      },
      "execution_count": null,
      "outputs": []
    },
    {
      "cell_type": "code",
      "source": [
        "# Perform the Mann–Whitney U test.\n",
        "mannwhitney_stat, mannwhitney_p = mannwhitneyu(group1,\n",
        "                                               group2)\n",
        "\n",
        "# View the output.\n",
        "print(\"Mann-Whitney statistic:\", mannwhitney_stat)\n",
        "print(\"Mann-Whitney p-value:\", mannwhitney_p)"
      ],
      "metadata": {
        "colab": {
          "base_uri": "https://localhost:8080/"
        },
        "id": "mAEJ-QgSc78M",
        "outputId": "3cbd5571-b7a6-4fa0-86da-e5a4795f2522"
      },
      "execution_count": null,
      "outputs": [
        {
          "output_type": "stream",
          "name": "stdout",
          "text": [
            "Mann-Whitney statistic: 17.0\n",
            "Mann-Whitney p-value: 0.13038073038073036\n"
          ]
        }
      ]
    },
    {
      "cell_type": "markdown",
      "source": [
        "The output indicates the test statistic ($U$) value is 17.0. The $p$-value is approximately 0.1304. Since the $p$-value is greater than the common alpha ($\\alpha$) level of 0.05, we would not reject $H_0$, indicating that there is no significant difference between the two groups based on the provided data."
      ],
      "metadata": {
        "id": "5Vz4rm1NZ6Nz"
      }
    },
    {
      "cell_type": "markdown",
      "source": [
        "## b. Wilcoxon signed-rank test\n",
        "A non-parametric statitsical test employed to compare paired samples to determine whether the population mean ranks differ.\n",
        "\n",
        "Consider the following scenario: CU Medical Consultants tested the effectiveness of a new medical treatment for anxiety. The levels of anxiety of seven patients were measured before and after treatment in a pilot study. The results, out of 30, are presented in the following table:\n",
        "\n",
        "|Before|After|\n",
        "|---|---|\n",
        "22|24|\n",
        "20|21|\n",
        "25|27|\n",
        "30|26|\n",
        "22|23|\n",
        "24|25|\n",
        "26|25|\n",
        "\n",
        "The hypotheses are:\n",
        "- $H_0$: The median difference between anxiety levels before and after treatment is zero (the treatment has no effect).\n",
        "- $H_a$: The median difference between anxiety levels before and after treatment is not zero (the treatment has an effect)."
      ],
      "metadata": {
        "id": "PmQ7RvSrZ1VJ"
      }
    },
    {
      "cell_type": "code",
      "source": [
        "# Import the necessary libraries.\n",
        "import numpy as np\n",
        "from scipy.stats import wilcoxon"
      ],
      "metadata": {
        "id": "SvjjB7vOjFn6"
      },
      "execution_count": null,
      "outputs": []
    },
    {
      "cell_type": "code",
      "source": [
        "# Example data for Wilcoxon signed-rank test\n",
        "# The two sets of measurements are related/ paired (e.g., before and after a treatment)\n",
        "data_before = np.array([22, 20, 25,\n",
        "                        30, 22, 24, 26])\n",
        "data_after = np.array([24, 21, 27, 26,\n",
        "                       23, 25, 25])"
      ],
      "metadata": {
        "id": "ZWgJW7PeK7rA"
      },
      "execution_count": null,
      "outputs": []
    },
    {
      "cell_type": "code",
      "source": [
        "# Perform Wilcoxon signed-rank test.\n",
        "wilcoxon_stat, wilcoxon_p = wilcoxon(data_before,\n",
        "                                     data_after)\n",
        "\n",
        "# View the output.\n",
        "print(\"Wilcoxon statistic:\", wilcoxon_stat)\n",
        "print(\"Wilcoxon p-value:\", wilcoxon_p)"
      ],
      "metadata": {
        "colab": {
          "base_uri": "https://localhost:8080/"
        },
        "id": "lvyhJ3B8dB6j",
        "outputId": "9e74fbde-3d64-47ca-fa23-e90781f2b75c"
      },
      "execution_count": null,
      "outputs": [
        {
          "output_type": "stream",
          "name": "stdout",
          "text": [
            "Wilcoxon statistic: 9.5\n",
            "Wilcoxon p-value: 0.46875\n"
          ]
        }
      ]
    },
    {
      "cell_type": "markdown",
      "source": [
        "The output indicates a test statistic value is 9.5. The $p$-value is approximately 0.4688. This $p$-value is also greater than 0.05, suggesting that there is no significant difference between the 'before' and 'after' conditions of the paired data based on the provided data."
      ],
      "metadata": {
        "id": "ZUpfbpqsJQAL"
      }
    },
    {
      "cell_type": "markdown",
      "source": [
        "# Key information\n",
        "The demonstration illustrated how to perform and interpret the Mann–Whitney U and Wilcoxon signed-rank tests. The interpretation of the $p$-values would depend on the $\\alpha$ level you set for your test (commonly 0.05 for a 5% significance level).​\n",
        "\n",
        "## Reflect\n",
        "What are the practical applications of this technique?\n",
        "\n",
        "### Portfolio entry\n",
        "Select here, then select the pen from the toolbar to add your entry."
      ],
      "metadata": {
        "id": "L6aOrnvbYxq2"
      }
    }
  ]
}