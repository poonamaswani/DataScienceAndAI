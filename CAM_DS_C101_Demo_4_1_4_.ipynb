{
  "cells": [
    {
      "cell_type": "markdown",
      "metadata": {
        "id": "view-in-github",
        "colab_type": "text"
      },
      "source": [
        "<a href=\"https://colab.research.google.com/github/poonamaswani/DataScienceAndAI/blob/main/CAM_DS_C101_Demo_4_1_4_.ipynb\" target=\"_parent\"><img src=\"https://colab.research.google.com/assets/colab-badge.svg\" alt=\"Open In Colab\"/></a>"
      ]
    },
    {
      "cell_type": "markdown",
      "metadata": {
        "id": "3k2rPGoAHyqU"
      },
      "source": [
        "**First things first** - please go to 'File' and select 'Save a copy in Drive' so that you have your own version of this activity set up and ready to use.\n",
        "Remember to update the portfolio index link to your own work once completed!"
      ]
    },
    {
      "cell_type": "markdown",
      "metadata": {
        "id": "MoSNkDA_lb7t"
      },
      "source": [
        "# Demonstration 4.1.4 Data cleaning: Outliers"
      ]
    },
    {
      "cell_type": "markdown",
      "metadata": {
        "id": "BrMHIIG3MAYA"
      },
      "source": [
        "A financial analyst plans to create a chart that simulates the short-term moving average of a client's portfolio over 100 days. During the initial review of the raw data, the analyst observed some outliers.\n",
        "\n",
        "He needs to investigate whether the outliers are due to data errors and assess their potential overall effect on the client's portfolio performance. After a thorough investigation, he confirmed the outliers pertain to data errors.\n",
        "\n",
        "Follow the demonstration to explore the importance of **handling outliers** based on sound business knowledge. In this demonstration, you will learn:\n",
        "- how to identify and remove outliers\n",
        "- the impact of identifying and removing outliers."
      ]
    },
    {
      "cell_type": "code",
      "execution_count": null,
      "metadata": {
        "id": "K5091pBQ1qTg"
      },
      "outputs": [],
      "source": [
        "# Import the necessary libraries.\n",
        "import numpy as np\n",
        "import pandas as pd\n",
        "import seaborn as sns\n",
        "import matplotlib.pyplot as plt\n",
        "\n",
        "from sklearn.linear_model import LinearRegression\n",
        "from sklearn.metrics import mean_squared_error, r2_score"
      ]
    },
    {
      "cell_type": "code",
      "execution_count": null,
      "metadata": {
        "id": "6ywl8z5XJnR8",
        "colab": {
          "base_uri": "https://localhost:8080/",
          "height": 224
        },
        "outputId": "abce088d-3529-4fbe-a60b-fd9fdc11e4c0"
      },
      "outputs": [
        {
          "output_type": "stream",
          "name": "stdout",
          "text": [
            "(100, 2)\n"
          ]
        },
        {
          "output_type": "execute_result",
          "data": {
            "text/plain": [
              "   X          Y\n",
              "0  1   6.967142\n",
              "1  2   2.617357\n",
              "2  3  12.476885\n",
              "3  4  23.230299\n",
              "4  5   7.658466"
            ],
            "text/html": [
              "\n",
              "  <div id=\"df-1dc1bc86-2f1c-48d8-bb41-0d3c03b6660d\" class=\"colab-df-container\">\n",
              "    <div>\n",
              "<style scoped>\n",
              "    .dataframe tbody tr th:only-of-type {\n",
              "        vertical-align: middle;\n",
              "    }\n",
              "\n",
              "    .dataframe tbody tr th {\n",
              "        vertical-align: top;\n",
              "    }\n",
              "\n",
              "    .dataframe thead th {\n",
              "        text-align: right;\n",
              "    }\n",
              "</style>\n",
              "<table border=\"1\" class=\"dataframe\">\n",
              "  <thead>\n",
              "    <tr style=\"text-align: right;\">\n",
              "      <th></th>\n",
              "      <th>X</th>\n",
              "      <th>Y</th>\n",
              "    </tr>\n",
              "  </thead>\n",
              "  <tbody>\n",
              "    <tr>\n",
              "      <th>0</th>\n",
              "      <td>1</td>\n",
              "      <td>6.967142</td>\n",
              "    </tr>\n",
              "    <tr>\n",
              "      <th>1</th>\n",
              "      <td>2</td>\n",
              "      <td>2.617357</td>\n",
              "    </tr>\n",
              "    <tr>\n",
              "      <th>2</th>\n",
              "      <td>3</td>\n",
              "      <td>12.476885</td>\n",
              "    </tr>\n",
              "    <tr>\n",
              "      <th>3</th>\n",
              "      <td>4</td>\n",
              "      <td>23.230299</td>\n",
              "    </tr>\n",
              "    <tr>\n",
              "      <th>4</th>\n",
              "      <td>5</td>\n",
              "      <td>7.658466</td>\n",
              "    </tr>\n",
              "  </tbody>\n",
              "</table>\n",
              "</div>\n",
              "    <div class=\"colab-df-buttons\">\n",
              "\n",
              "  <div class=\"colab-df-container\">\n",
              "    <button class=\"colab-df-convert\" onclick=\"convertToInteractive('df-1dc1bc86-2f1c-48d8-bb41-0d3c03b6660d')\"\n",
              "            title=\"Convert this dataframe to an interactive table.\"\n",
              "            style=\"display:none;\">\n",
              "\n",
              "  <svg xmlns=\"http://www.w3.org/2000/svg\" height=\"24px\" viewBox=\"0 -960 960 960\">\n",
              "    <path d=\"M120-120v-720h720v720H120Zm60-500h600v-160H180v160Zm220 220h160v-160H400v160Zm0 220h160v-160H400v160ZM180-400h160v-160H180v160Zm440 0h160v-160H620v160ZM180-180h160v-160H180v160Zm440 0h160v-160H620v160Z\"/>\n",
              "  </svg>\n",
              "    </button>\n",
              "\n",
              "  <style>\n",
              "    .colab-df-container {\n",
              "      display:flex;\n",
              "      gap: 12px;\n",
              "    }\n",
              "\n",
              "    .colab-df-convert {\n",
              "      background-color: #E8F0FE;\n",
              "      border: none;\n",
              "      border-radius: 50%;\n",
              "      cursor: pointer;\n",
              "      display: none;\n",
              "      fill: #1967D2;\n",
              "      height: 32px;\n",
              "      padding: 0 0 0 0;\n",
              "      width: 32px;\n",
              "    }\n",
              "\n",
              "    .colab-df-convert:hover {\n",
              "      background-color: #E2EBFA;\n",
              "      box-shadow: 0px 1px 2px rgba(60, 64, 67, 0.3), 0px 1px 3px 1px rgba(60, 64, 67, 0.15);\n",
              "      fill: #174EA6;\n",
              "    }\n",
              "\n",
              "    .colab-df-buttons div {\n",
              "      margin-bottom: 4px;\n",
              "    }\n",
              "\n",
              "    [theme=dark] .colab-df-convert {\n",
              "      background-color: #3B4455;\n",
              "      fill: #D2E3FC;\n",
              "    }\n",
              "\n",
              "    [theme=dark] .colab-df-convert:hover {\n",
              "      background-color: #434B5C;\n",
              "      box-shadow: 0px 1px 3px 1px rgba(0, 0, 0, 0.15);\n",
              "      filter: drop-shadow(0px 1px 2px rgba(0, 0, 0, 0.3));\n",
              "      fill: #FFFFFF;\n",
              "    }\n",
              "  </style>\n",
              "\n",
              "    <script>\n",
              "      const buttonEl =\n",
              "        document.querySelector('#df-1dc1bc86-2f1c-48d8-bb41-0d3c03b6660d button.colab-df-convert');\n",
              "      buttonEl.style.display =\n",
              "        google.colab.kernel.accessAllowed ? 'block' : 'none';\n",
              "\n",
              "      async function convertToInteractive(key) {\n",
              "        const element = document.querySelector('#df-1dc1bc86-2f1c-48d8-bb41-0d3c03b6660d');\n",
              "        const dataTable =\n",
              "          await google.colab.kernel.invokeFunction('convertToInteractive',\n",
              "                                                    [key], {});\n",
              "        if (!dataTable) return;\n",
              "\n",
              "        const docLinkHtml = 'Like what you see? Visit the ' +\n",
              "          '<a target=\"_blank\" href=https://colab.research.google.com/notebooks/data_table.ipynb>data table notebook</a>'\n",
              "          + ' to learn more about interactive tables.';\n",
              "        element.innerHTML = '';\n",
              "        dataTable['output_type'] = 'display_data';\n",
              "        await google.colab.output.renderOutput(dataTable, element);\n",
              "        const docLink = document.createElement('div');\n",
              "        docLink.innerHTML = docLinkHtml;\n",
              "        element.appendChild(docLink);\n",
              "      }\n",
              "    </script>\n",
              "  </div>\n",
              "\n",
              "\n",
              "<div id=\"df-318d67ab-51fc-4677-9662-6ba7f61c5e42\">\n",
              "  <button class=\"colab-df-quickchart\" onclick=\"quickchart('df-318d67ab-51fc-4677-9662-6ba7f61c5e42')\"\n",
              "            title=\"Suggest charts\"\n",
              "            style=\"display:none;\">\n",
              "\n",
              "<svg xmlns=\"http://www.w3.org/2000/svg\" height=\"24px\"viewBox=\"0 0 24 24\"\n",
              "     width=\"24px\">\n",
              "    <g>\n",
              "        <path d=\"M19 3H5c-1.1 0-2 .9-2 2v14c0 1.1.9 2 2 2h14c1.1 0 2-.9 2-2V5c0-1.1-.9-2-2-2zM9 17H7v-7h2v7zm4 0h-2V7h2v10zm4 0h-2v-4h2v4z\"/>\n",
              "    </g>\n",
              "</svg>\n",
              "  </button>\n",
              "\n",
              "<style>\n",
              "  .colab-df-quickchart {\n",
              "      --bg-color: #E8F0FE;\n",
              "      --fill-color: #1967D2;\n",
              "      --hover-bg-color: #E2EBFA;\n",
              "      --hover-fill-color: #174EA6;\n",
              "      --disabled-fill-color: #AAA;\n",
              "      --disabled-bg-color: #DDD;\n",
              "  }\n",
              "\n",
              "  [theme=dark] .colab-df-quickchart {\n",
              "      --bg-color: #3B4455;\n",
              "      --fill-color: #D2E3FC;\n",
              "      --hover-bg-color: #434B5C;\n",
              "      --hover-fill-color: #FFFFFF;\n",
              "      --disabled-bg-color: #3B4455;\n",
              "      --disabled-fill-color: #666;\n",
              "  }\n",
              "\n",
              "  .colab-df-quickchart {\n",
              "    background-color: var(--bg-color);\n",
              "    border: none;\n",
              "    border-radius: 50%;\n",
              "    cursor: pointer;\n",
              "    display: none;\n",
              "    fill: var(--fill-color);\n",
              "    height: 32px;\n",
              "    padding: 0;\n",
              "    width: 32px;\n",
              "  }\n",
              "\n",
              "  .colab-df-quickchart:hover {\n",
              "    background-color: var(--hover-bg-color);\n",
              "    box-shadow: 0 1px 2px rgba(60, 64, 67, 0.3), 0 1px 3px 1px rgba(60, 64, 67, 0.15);\n",
              "    fill: var(--button-hover-fill-color);\n",
              "  }\n",
              "\n",
              "  .colab-df-quickchart-complete:disabled,\n",
              "  .colab-df-quickchart-complete:disabled:hover {\n",
              "    background-color: var(--disabled-bg-color);\n",
              "    fill: var(--disabled-fill-color);\n",
              "    box-shadow: none;\n",
              "  }\n",
              "\n",
              "  .colab-df-spinner {\n",
              "    border: 2px solid var(--fill-color);\n",
              "    border-color: transparent;\n",
              "    border-bottom-color: var(--fill-color);\n",
              "    animation:\n",
              "      spin 1s steps(1) infinite;\n",
              "  }\n",
              "\n",
              "  @keyframes spin {\n",
              "    0% {\n",
              "      border-color: transparent;\n",
              "      border-bottom-color: var(--fill-color);\n",
              "      border-left-color: var(--fill-color);\n",
              "    }\n",
              "    20% {\n",
              "      border-color: transparent;\n",
              "      border-left-color: var(--fill-color);\n",
              "      border-top-color: var(--fill-color);\n",
              "    }\n",
              "    30% {\n",
              "      border-color: transparent;\n",
              "      border-left-color: var(--fill-color);\n",
              "      border-top-color: var(--fill-color);\n",
              "      border-right-color: var(--fill-color);\n",
              "    }\n",
              "    40% {\n",
              "      border-color: transparent;\n",
              "      border-right-color: var(--fill-color);\n",
              "      border-top-color: var(--fill-color);\n",
              "    }\n",
              "    60% {\n",
              "      border-color: transparent;\n",
              "      border-right-color: var(--fill-color);\n",
              "    }\n",
              "    80% {\n",
              "      border-color: transparent;\n",
              "      border-right-color: var(--fill-color);\n",
              "      border-bottom-color: var(--fill-color);\n",
              "    }\n",
              "    90% {\n",
              "      border-color: transparent;\n",
              "      border-bottom-color: var(--fill-color);\n",
              "    }\n",
              "  }\n",
              "</style>\n",
              "\n",
              "  <script>\n",
              "    async function quickchart(key) {\n",
              "      const quickchartButtonEl =\n",
              "        document.querySelector('#' + key + ' button');\n",
              "      quickchartButtonEl.disabled = true;  // To prevent multiple clicks.\n",
              "      quickchartButtonEl.classList.add('colab-df-spinner');\n",
              "      try {\n",
              "        const charts = await google.colab.kernel.invokeFunction(\n",
              "            'suggestCharts', [key], {});\n",
              "      } catch (error) {\n",
              "        console.error('Error during call to suggestCharts:', error);\n",
              "      }\n",
              "      quickchartButtonEl.classList.remove('colab-df-spinner');\n",
              "      quickchartButtonEl.classList.add('colab-df-quickchart-complete');\n",
              "    }\n",
              "    (() => {\n",
              "      let quickchartButtonEl =\n",
              "        document.querySelector('#df-318d67ab-51fc-4677-9662-6ba7f61c5e42 button');\n",
              "      quickchartButtonEl.style.display =\n",
              "        google.colab.kernel.accessAllowed ? 'block' : 'none';\n",
              "    })();\n",
              "  </script>\n",
              "</div>\n",
              "\n",
              "    </div>\n",
              "  </div>\n"
            ],
            "application/vnd.google.colaboratory.intrinsic+json": {
              "type": "dataframe",
              "variable_name": "df",
              "summary": "{\n  \"name\": \"df\",\n  \"rows\": 100,\n  \"fields\": [\n    {\n      \"column\": \"X\",\n      \"properties\": {\n        \"dtype\": \"number\",\n        \"std\": 29,\n        \"min\": 1,\n        \"max\": 100,\n        \"num_unique_values\": 100,\n        \"samples\": [\n          84,\n          54,\n          71\n        ],\n        \"semantic_type\": \"\",\n        \"description\": \"\"\n      }\n    },\n    {\n      \"column\": \"Y\",\n      \"properties\": {\n        \"dtype\": \"number\",\n        \"std\": 83.31492404850918,\n        \"min\": 2.6173569882881536,\n        \"max\": 500.0,\n        \"num_unique_values\": 100,\n        \"samples\": [\n          162.81729781726352,\n          114.11676288840869,\n          145.61395605508417\n        ],\n        \"semantic_type\": \"\",\n        \"description\": \"\"\n      }\n    }\n  ]\n}"
            }
          },
          "metadata": {},
          "execution_count": 2
        }
      ],
      "source": [
        "# Import the identify_features.csv file (data set) from GitHub with a url.\n",
        "url = \"https://raw.githubusercontent.com/fourthrevlxd/cam_dsb/main/outliers_data.csv\"\n",
        "\n",
        "# Read the CSV file into a new DataFrame.\n",
        "df = pd.read_csv(url)\n",
        "\n",
        "# Display the first few rows of the DataFrame.\n",
        "print(df.shape)\n",
        "df.head()"
      ]
    },
    {
      "cell_type": "code",
      "source": [
        "# Plot the results.\n",
        "plt.figure(figsize=(15, 7))\n",
        "\n",
        "# Plot the raw data with outliers.\n",
        "plt.subplot(1, 2, 1)\n",
        "plt.scatter(df['X'], df['Y'], label='Data')\n",
        "plt.ylim(-150, 550)  # Fix the y-axis scale.\n",
        "plt.title('Raw data')\n",
        "plt.legend()"
      ],
      "metadata": {
        "colab": {
          "base_uri": "https://localhost:8080/",
          "height": 639
        },
        "id": "XzSC1ednqs7C",
        "outputId": "5fd5bd3f-6128-4feb-b4c7-20863f33a14f"
      },
      "execution_count": null,
      "outputs": [
        {
          "output_type": "execute_result",
          "data": {
            "text/plain": [
              "<matplotlib.legend.Legend at 0x7e977dad2c20>"
            ]
          },
          "metadata": {},
          "execution_count": 3
        },
        {
          "output_type": "display_data",
          "data": {
            "text/plain": [
              "<Figure size 1500x700 with 1 Axes>"
            ],
            "image/png": "[encoded data removed]"
          },
          "metadata": {}
        }
      ]
    },
    {
      "cell_type": "code",
      "execution_count": null,
      "metadata": {
        "id": "J5GF3coD1qLA"
      },
      "outputs": [],
      "source": [
        "# Use the IQR method to identify the outliers.\n",
        "Q1 = df['Y'].quantile(0.25)\n",
        "Q3 = df['Y'].quantile(0.75)\n",
        "IQR = Q3 - Q1\n",
        "\n",
        "lower_bound = Q1 - 1.5 * IQR\n",
        "upper_bound = Q3 + 1.5 * IQR\n",
        "\n",
        "# Remove the outliers.\n",
        "df_clean = df[(df['Y'] > lower_bound) & (df['Y'] < upper_bound)]"
      ]
    },
    {
      "cell_type": "code",
      "execution_count": null,
      "metadata": {
        "id": "v9TsZ6eQ1p_E",
        "colab": {
          "base_uri": "https://localhost:8080/",
          "height": 603
        },
        "outputId": "a4090e98-b964-47eb-b15e-63fa6a7f1cd3"
      },
      "outputs": [
        {
          "output_type": "display_data",
          "data": {
            "text/plain": [
              "<Figure size 1500x700 with 2 Axes>"
            ],
            "image/png": "[encoded data removed]"
          },
          "metadata": {}
        }
      ],
      "source": [
        "# Plot the raw data.\n",
        "plt.figure(figsize=(15, 7))\n",
        "\n",
        "plt.subplot(1,2,1)\n",
        "sns.boxplot(df['Y'])\n",
        "plt.title('Raw data')\n",
        "\n",
        "# Plot the cleaned data.\n",
        "plt.subplot(1,2,2)\n",
        "sns.boxplot(df_clean['Y'])\n",
        "plt.title('Cleaned data')\n",
        "\n",
        "# View the plot.\n",
        "plt.show()"
      ]
    },
    {
      "cell_type": "code",
      "execution_count": null,
      "metadata": {
        "id": "Ewk7ox6cMOio"
      },
      "outputs": [],
      "source": [
        "# Fit a linear regression model on the raw data.\n",
        "lr_raw = LinearRegression()\n",
        "lr_raw.fit(df[['X']], df['Y'])\n",
        "y_pred_raw = lr_raw.predict(df[['X']])\n",
        "\n",
        "# Calculate MSE and R-squared for the model with outliers.\n",
        "mse_raw = mean_squared_error(df['Y'], y_pred_raw)\n",
        "r2_raw = r2_score(df['Y'], y_pred_raw)"
      ]
    },
    {
      "cell_type": "code",
      "execution_count": null,
      "metadata": {
        "id": "QP8hCbDyMOf3"
      },
      "outputs": [],
      "source": [
        "# Fit a linear regression model without outliers.\n",
        "lr_clean = LinearRegression()\n",
        "lr_clean.fit(df_clean[['X']], df_clean['Y'])\n",
        "y_pred_clean = lr_clean.predict(df_clean[['X']])\n",
        "\n",
        "# Calculate the MSE and R-squared for the model without outliers.\n",
        "mse_clean = mean_squared_error(df_clean['Y'], y_pred_clean)\n",
        "r2_clean = r2_score(df_clean['Y'], y_pred_clean)"
      ]
    },
    {
      "cell_type": "code",
      "execution_count": null,
      "metadata": {
        "id": "b0jlK1Q2MOc4",
        "colab": {
          "base_uri": "https://localhost:8080/",
          "height": 622
        },
        "outputId": "8a5390e2-fc9f-4638-e882-673635a91fbc"
      },
      "outputs": [
        {
          "output_type": "display_data",
          "data": {
            "text/plain": [
              "<Figure size 1500x700 with 2 Axes>"
            ],
            "image/png": "[encoded data removed]"
          },
          "metadata": {}
        }
      ],
      "source": [
        "# Plot the results.\n",
        "plt.figure(figsize=(15, 7))\n",
        "\n",
        "# With outliers.\n",
        "plt.subplot(1, 2, 1)\n",
        "plt.scatter(df['X'], df['Y'],\n",
        "            label='Data')\n",
        "plt.plot(df['X'], y_pred_raw,\n",
        "         color='red', label='Line of best fit')\n",
        "plt.ylim(-150, 550)  # Fix the y-axis scale\n",
        "plt.title('Raw data')\n",
        "plt.legend()\n",
        "plt.text(10, -130,\n",
        "         f'MSE: {mse_raw:.2f}\\nR-squared: {r2_raw:.2f}',\n",
        "         fontsize=12)\n",
        "\n",
        "# Without outliers.\n",
        "plt.subplot(1, 2, 2)\n",
        "plt.scatter(df_clean['X'], df_clean['Y'],\n",
        "            label='Data')\n",
        "plt.plot(df_clean['X'], y_pred_clean,\n",
        "         color='red', label='Line of Best Fit')\n",
        "plt.ylim(-150, 550)  # Fix the y-axis scale\n",
        "plt.title('Cleaned data')\n",
        "plt.legend()\n",
        "plt.text(10, -130,\n",
        "         f'MSE: {mse_clean:.2f}\\nR-squared: {r2_clean:.2f}',\n",
        "         fontsize=12)\n",
        "\n",
        "plt.show()"
      ]
    },
    {
      "cell_type": "markdown",
      "source": [
        "### Remove the outliers from the data before calculating MSE and R-squared\n",
        "\n",
        "##### The model that has considered the outliers in the data will have higher MSE and lower R-squared values because of the impact of the outliers.\n",
        "\n",
        "##### The linear model which took into consideration the outliers has clearly been influenced by the outliers. To gauage the impact, we will remove the outliers while evaluating MSE and R- squared and compare the parameters with that of the line that was not influenced by the outliers\n"
      ],
      "metadata": {
        "id": "LaJ2ldH3_CDj"
      }
    },
    {
      "cell_type": "code",
      "source": [
        "# Remove outliers using IQR.\n",
        "Q1 = df['Y'].quantile(0.25)\n",
        "Q3 = df['Y'].quantile(0.75)\n",
        "IQR = Q3 - Q1\n",
        "lower_bound = Q1 - 1.5 * IQR\n",
        "upper_bound = Q3 + 1.5 * IQR\n",
        "\n",
        "# Filter out the outliers.\n",
        "df_no_outliers = df[(df['Y'] >= lower_bound) & (df['Y'] <= upper_bound)]\n",
        "\n",
        "# Calculate the MSE of the fitted line on data without outliers.\n",
        "# Predict Y values using the original model.\n",
        "predicted_Y_no_outliers = lr_raw.predict(df_no_outliers[['X']])\n",
        "\n",
        "# Calculate MSE.\n",
        "mse_no_outliers = mean_squared_error(df_no_outliers['Y'], predicted_Y_no_outliers)\n",
        "print(f\"MSE after removing outliers: {mse_no_outliers:.2f}\")"
      ],
      "metadata": {
        "id": "IfsEmD4HnP6h",
        "colab": {
          "base_uri": "https://localhost:8080/"
        },
        "outputId": "a78631c1-cd8f-4860-e122-95b11b148b37"
      },
      "execution_count": null,
      "outputs": [
        {
          "output_type": "stream",
          "name": "stdout",
          "text": [
            "MSE after removing outliers: 449.91\n"
          ]
        }
      ]
    },
    {
      "cell_type": "code",
      "source": [
        "# Manual calculation of R-squared for the data without outliers\n",
        "\n",
        "# Calculate Total Sum of Squares (SST) for the filtered data.\n",
        "y_mean_no_outliers = np.mean(df_no_outliers['Y'])\n",
        "SST_no_outliers = np.sum((df_no_outliers['Y'] - y_mean_no_outliers) ** 2)\n",
        "\n",
        "# Calculate Residual Sum of Squares (SSR) for the filtered data.\n",
        "# Use the model fitted with all data to predict Y values for the filtered data.\n",
        "y_pred_no_outliers = lr_raw.predict(df_no_outliers[['X']])\n",
        "SSR_no_outliers = np.sum((df_no_outliers['Y'] - y_pred_no_outliers) ** 2)\n",
        "\n",
        "# Calculate R-squared.\n",
        "r_squared_no_outliers = 1 - (SSR_no_outliers / SST_no_outliers)\n",
        "print(f\"R-squared after removing outliers: {r_squared_no_outliers:.2f}\")"
      ],
      "metadata": {
        "id": "h6tYbuymnb4O",
        "colab": {
          "base_uri": "https://localhost:8080/"
        },
        "outputId": "af491a22-f911-4763-e220-b12b724f4830"
      },
      "execution_count": null,
      "outputs": [
        {
          "output_type": "stream",
          "name": "stdout",
          "text": [
            "R-squared after removing outliers: 0.87\n"
          ]
        }
      ]
    },
    {
      "cell_type": "code",
      "source": [
        "# Retrieve the equations of the lines.\n",
        "\n",
        "# Coefficients of the raw line\n",
        "slope = lr_raw.coef_[0]\n",
        "intercept = lr_raw.intercept_\n",
        "\n",
        "# Coefficients of the clean line (no outliers)\n",
        "slope_clean = lr_clean.coef_[0]\n",
        "intercept_clean = lr_clean.intercept_\n",
        "\n",
        "print(f\"Equation of the cleaned data line: y = {slope_clean:.2f}x + {intercept_clean:.2f}\")\n",
        "print(f\"Equation of the raw data line: y = {slope:.2f}x + {intercept:.2f}\")"
      ],
      "metadata": {
        "colab": {
          "base_uri": "https://localhost:8080/"
        },
        "id": "MbOo7EWjBctL",
        "outputId": "5c90576c-2088-49ec-8b9d-d5fdd2269939"
      },
      "execution_count": null,
      "outputs": [
        {
          "output_type": "stream",
          "name": "stdout",
          "text": [
            "Equation of the cleaned data line: y = 2.02x + -1.87\n",
            "Equation of the raw data line: y = 1.50x + 37.04\n"
          ]
        }
      ]
    },
    {
      "cell_type": "markdown",
      "source": [
        "You can compare the values of the slope and the intercept between the two different models.\n",
        "\n",
        "$ Model_{clean} = -1.87 + 2.02 \\times x$\n",
        "\n",
        "$ Model_{raw} = 37.04 + 1.5 \\times x$"
      ],
      "metadata": {
        "id": "5kWZsq81BkY3"
      }
    },
    {
      "cell_type": "markdown",
      "metadata": {
        "id": "fsC5J3jplb35"
      },
      "source": [
        "# Key information\n",
        "This demonstration illustrated the importance of understanding the business context when handling outliers. Before you can ignore or delete outliers, consider:\n",
        "- Are the outliers a result of data errors?\n",
        "- Are the outliers isolated incidents, and can the incidents be repeated?\n",
        "\n",
        "## Reflect\n",
        "What are the practical applications of this technique?\n",
        "\n",
        "> Select the pen from the toolbar to add your entry."
      ]
    }
  ],
  "metadata": {
    "colab": {
      "provenance": [],
      "include_colab_link": true
    },
    "kernelspec": {
      "display_name": "Python 3",
      "name": "python3"
    },
    "language_info": {
      "name": "python"
    }
  },
  "nbformat": 4,
  "nbformat_minor": 0
}