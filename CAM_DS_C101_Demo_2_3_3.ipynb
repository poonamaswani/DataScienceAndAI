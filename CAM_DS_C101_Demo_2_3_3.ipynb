{
  "cells": [
    {
      "cell_type": "markdown",
      "metadata": {
        "id": "view-in-github",
        "colab_type": "text"
      },
      "source": [
        "<a href=\"https://colab.research.google.com/github/poonamaswani/DataScienceAndAI/blob/main/CAM_DS_C101_Demo_2_3_3.ipynb\" target=\"_parent\"><img src=\"https://colab.research.google.com/assets/colab-badge.svg\" alt=\"Open In Colab\"/></a>"
      ]
    },
    {
      "cell_type": "markdown",
      "source": [
        "**First things first** - please go to 'File' and select 'Save a copy in Drive' so that you have your own version of this demonstration set up and ready to use.\n"
      ],
      "metadata": {
        "id": "kTw3qIJaT6vd"
      }
    },
    {
      "metadata": {
        "id": "16Mxn-JsCoEl"
      },
      "cell_type": "markdown",
      "source": [
        "# Demonstration 2.3.3 Predicting with regression\n",
        "\n",
        "Follow the demonstration to learn how to perform linear regression using statistical methods in Python. In this video, you will:\n",
        "- Learn the difference between simple and multiple linear regression.\n",
        "- Learn how to find the coefficients of simple linear regression and multiple linear regression, using the analytical (closed form) solution approach.\n"
      ]
    },
    {
      "cell_type": "markdown",
      "source": [
        "### a) Simple linear regression is given as:\n",
        "$y=β_0+β_1x+ε$\n",
        "\n",
        "where:\n",
        "- $y$ is the dependent variable (response).\n",
        "- $x$ is the independent variable (predictor).\n",
        "- $β_0$ is the y-intercept.\n",
        "- $β_1$ is the slope.\n",
        "- $ε$ is the error term."
      ],
      "metadata": {
        "id": "Rjp6yOuQn2GK"
      }
    },
    {
      "cell_type": "markdown",
      "source": [
        "The slope $β_1$ (or m) is calculated as:\n",
        "\n",
        "$m = \\frac {\\sum (x- \\bar{x}) (y-\\bar{y})} {\\sum (x-\\bar{x})^2}$\n"
      ],
      "metadata": {
        "id": "EkOZHfSdvSMK"
      }
    },
    {
      "cell_type": "markdown",
      "source": [
        "The intercept $β_0$ (or *b*) is caclulated as:\n",
        "\n",
        "$b = \\bar{y} - m ⋅ \\bar{x}$"
      ],
      "metadata": {
        "id": "gu5d4vXUwF7p"
      }
    },
    {
      "cell_type": "code",
      "source": [
        "# Import the required libraries.\n",
        "import numpy as np\n",
        "import matplotlib.pyplot as plt\n",
        "\n",
        "np.random.seed(42)"
      ],
      "metadata": {
        "id": "clyW0HDavyAJ"
      },
      "execution_count": null,
      "outputs": []
    },
    {
      "cell_type": "code",
      "source": [
        "# Create a data set.\n",
        "x = np.array([1, 2, 3, 4, 5,\n",
        "              6, 7, 8, 9, 10])\n",
        "\n",
        "y = np.array([2, 3, 4, 5, 6,\n",
        "              7, 8, 9, 10, 11])\n",
        "\n",
        "# Define a moderate variation epsilon error magnitude.\n",
        "epsilon = 0.5\n",
        "\n",
        "# Generate some random noise (epsilon).\n",
        "error = np.random.normal(0, epsilon, size=len(y))\n",
        "\n",
        "# Add the error to y\n",
        "y = y + error\n"
      ],
      "metadata": {
        "id": "foQEi_qdwBZ4"
      },
      "execution_count": null,
      "outputs": []
    },
    {
      "cell_type": "code",
      "source": [
        "# Calculate the mean of x and y.\n",
        "mean_x = np.mean(x)\n",
        "mean_y = np.mean(y)\n",
        "print(mean_x)"
      ],
      "metadata": {
        "id": "1xIJ69plvi85",
        "outputId": "42ad384a-443f-4454-9c19-0761a7db973e",
        "colab": {
          "base_uri": "https://localhost:8080/"
        }
      },
      "execution_count": null,
      "outputs": [
        {
          "output_type": "stream",
          "name": "stdout",
          "text": [
            "5.5\n"
          ]
        }
      ]
    },
    {
      "cell_type": "code",
      "source": [
        "# Calculate the slope and y-intercept\n",
        "numerator = np.sum((x - mean_x) * (y - mean_y))\n",
        "denominator = np.sum((x - mean_x)**2)\n",
        "\n",
        "slope = numerator / denominator\n",
        "\n",
        "intercept = mean_y - slope * mean_x"
      ],
      "metadata": {
        "id": "o78nGywwwBXd"
      },
      "execution_count": null,
      "outputs": []
    },
    {
      "cell_type": "code",
      "source": [
        "# Predict y values using the linear regression equation.\n",
        "predicted_y = slope * x + intercept\n",
        "\n",
        "# View output.\n",
        "predicted_y"
      ],
      "metadata": {
        "colab": {
          "base_uri": "https://localhost:8080/"
        },
        "id": "Bx32G4NywBUz",
        "outputId": "4b0670e8-ab1f-4ea2-84a7-41d362b587f0"
      },
      "execution_count": null,
      "outputs": [
        {
          "output_type": "execute_result",
          "data": {
            "text/plain": [
              "array([ 1.70572495,  2.68326849,  3.66081203,  4.63835557,  5.61589911,\n",
              "        6.59344265,  7.57098619,  8.54852974,  9.52607328, 10.50361682])"
            ]
          },
          "metadata": {},
          "execution_count": 6
        }
      ]
    },
    {
      "cell_type": "code",
      "source": [
        "# Calculate R-squared to test accuracy.\n",
        "ss_total = np.sum((y - np.mean(y))**2)\n",
        "ss_residual = np.sum((y - predicted_y)**2)\n",
        "r_squared = 1 - (ss_residual / ss_total)"
      ],
      "metadata": {
        "id": "UbZ8MO2qwBSM"
      },
      "execution_count": null,
      "outputs": []
    },
    {
      "cell_type": "code",
      "source": [
        "# Display coefficients and R-squared.\n",
        "print(\"Slope (x):\", slope)\n",
        "print(\"Intercept:\", intercept)\n",
        "print(\"R-squared:\", r_squared)"
      ],
      "metadata": {
        "colab": {
          "base_uri": "https://localhost:8080/"
        },
        "id": "ZXWYQP0BwBPl",
        "outputId": "94e032b3-2e81-4987-9f36-e4a52fa7e1d7"
      },
      "execution_count": null,
      "outputs": [
        {
          "output_type": "stream",
          "name": "stdout",
          "text": [
            "Slope (x): 0.9775435413667461\n",
            "Intercept: 0.7281814051916902\n",
            "R-squared: 0.984489493383986\n"
          ]
        }
      ]
    },
    {
      "cell_type": "code",
      "source": [
        "# Plot the original data points.\n",
        "plt.scatter(x, y,\n",
        "            color='blue',\n",
        "            label='Original Data')\n",
        "\n",
        "# Plot    the regression line.\n",
        "plt.plot(x, predicted_y,\n",
        "         color='red',\n",
        "         label='Regression Line')\n",
        "\n",
        "# Add dashed lines for errors.\n",
        "for i in range(len(x)):\n",
        "    # Draw a dashed line from each data point to the corresponding point on the regression line\n",
        "    plt.plot([x[i], x[i]], [y[i], predicted_y[i]], color='gray', linestyle='--', linewidth=1)\n",
        "\n",
        "# Annotate the equation of the line and R-squared.\n",
        "equation = f'y = {slope:.2f}x + {intercept:.2f}\\nR-squared = {r_squared:.2f}'\n",
        "plt.annotate(equation,\n",
        "             xy=(7, 5),\n",
        "             fontsize=12,\n",
        "             color='green')\n",
        "\n",
        "# Add labels and a legend.\n",
        "plt.xlabel('X')\n",
        "plt.ylabel('Y')\n",
        "plt.legend()\n",
        "\n",
        "# View the plot.\n",
        "plt.show()"
      ],
      "metadata": {
        "colab": {
          "base_uri": "https://localhost:8080/",
          "height": 449
        },
        "id": "EI84kmhdnPpj",
        "outputId": "17a373c7-1d3a-4d84-aade-5e595d8fe835"
      },
      "execution_count": null,
      "outputs": [
        {
          "output_type": "display_data",
          "data": {
            "text/plain": [
              "<Figure size 640x480 with 1 Axes>"
            ],
            "image/png": "[encoded data removed]"
          },
          "metadata": {}
        }
      ]
    },
    {
      "cell_type": "code",
      "source": [
        "# Create a matrix X with the independent variables. The ones represent the intercept.\n",
        "X = np.column_stack((x,np.ones_like(x)))\n",
        "# Calculate the coefficients using the normal equation.\n",
        "coefficients = np.linalg.inv(X.T @ X) @ X.T @ y\n",
        "\n",
        "# Extract coefficients for each independent variable and the intercept.\n",
        "slope_x, intercept = coefficients\n",
        "\n",
        "# Calculate predicted y values.\n",
        "pred_y = slope_x * x + intercept\n",
        "\n",
        "# View the output.\n",
        "pred_y"
      ],
      "metadata": {
        "colab": {
          "base_uri": "https://localhost:8080/"
        },
        "id": "tJt1QI6Hn23g",
        "outputId": "bae1bfe1-7f90-4ac5-bad7-c9f70c57f594"
      },
      "execution_count": null,
      "outputs": [
        {
          "output_type": "execute_result",
          "data": {
            "text/plain": [
              "array([ 1.70572495,  2.68326849,  3.66081203,  4.63835557,  5.61589911,\n",
              "        6.59344265,  7.57098619,  8.54852974,  9.52607328, 10.50361682])"
            ]
          },
          "metadata": {},
          "execution_count": 10
        }
      ]
    },
    {
      "cell_type": "code",
      "source": [
        "# Calculate R-squared.\n",
        "ss_total = np.sum((y - np.mean(y))**2)\n",
        "ss_residual = np.sum((y - pred_y)**2)\n",
        "r_squared2 = 1 - (ss_residual / ss_total)\n",
        "\n",
        "# Display coefficients and R-squared.\n",
        "print(\"Slope (x):\", slope_x)\n",
        "print(\"Intercept:\", intercept)\n",
        "print(\"R-squared:\", r_squared2)"
      ],
      "metadata": {
        "colab": {
          "base_uri": "https://localhost:8080/"
        },
        "id": "jcKrt2xun94W",
        "outputId": "3141e1d5-0b16-4a2e-bff4-0464f1b212ee"
      },
      "execution_count": null,
      "outputs": [
        {
          "output_type": "stream",
          "name": "stdout",
          "text": [
            "Slope (x): 0.9775435413667463\n",
            "Intercept: 0.7281814051916888\n",
            "R-squared: 0.984489493383986\n"
          ]
        }
      ]
    },
    {
      "cell_type": "markdown",
      "source": [
        "### b) Multiple linear regression is given as:\n",
        "$y=β_0+β_1x_1+β_2x_2+ \\dots + β_nx_n +ε$\n",
        "\n",
        "where:\n",
        "- $y$ is the dependent variable (response).\n",
        "- $x_1, x_2, ..., x_n$ is the independent variable (predictor).\n",
        "- $β_0$ is the y-intercept.\n",
        "- $β_1, β_2,...,β_n$ is the slope.\n",
        "- $ε$ is the error term."
      ],
      "metadata": {
        "id": "X4xHoTjAn0xS"
      }
    },
    {
      "cell_type": "markdown",
      "source": [
        "In the more general case of multiple linear regression, comprising of any number of input variables, we can use the Normal equation method to find the intercept and the respective slopes.\n",
        "\n",
        "The normal equation is a closed-form solution. It is as an analytical approach to find the coefficients ($β_0, β_1, β_2,...,β_n$) that minimize the loss function. We will be covering loss functions extensively in Course 2."
      ],
      "metadata": {
        "id": "yply1nVlzr-7"
      }
    },
    {
      "cell_type": "markdown",
      "source": [
        "The Normal equation provides a way to calculate the line of best fit using the equation:\n",
        "\n",
        "$\\theta = (X^TX)^{-1}X^Ty$\n",
        "\n",
        "Where:\n",
        "\n",
        "$X$ is the matrix of input features\n",
        "\n",
        "$y$ is the vector of output values\n",
        "\n",
        "and the solution $\\theta$ comprises of the slopes and the intercept\n",
        "\n",
        "$\\theta = \\begin{bmatrix} \\beta_0 \\\\ \\beta_1 \\\\ \\vdots \\\\ \\beta_n \\end{bmatrix}$"
      ],
      "metadata": {
        "id": "QvcUsdhC39HQ"
      }
    },
    {
      "cell_type": "code",
      "source": [
        "# Create a sample data set.\n",
        "x1 = np.array([1.1, 2.3, 3.1, 4.5, 5.2,\n",
        "               6.7, 7.2, 8.1, 9.4, 10])\n",
        "x2 = np.array([2.6, 3.4, 5.1, 7.2, 11,\n",
        "               13.2, 17.1, 19.6, 23.1, 29.4])\n",
        "y = np.array([2, 3, 4, 5, 6,\n",
        "              7, 8, 9, 10, 11])\n",
        "\n",
        "# Create a matrix X with the independent variables. The ones represent the intercept.\n",
        "X = np.column_stack((x1,\n",
        "                     x2,\n",
        "                     np.ones_like(x1)))"
      ],
      "metadata": {
        "id": "joGwjnt-2Nrk"
      },
      "execution_count": null,
      "outputs": []
    },
    {
      "cell_type": "code",
      "source": [
        "# Calculate the coefficients using the normal equation.\n",
        "coefficients = np.linalg.inv(X.T @ X) @ X.T @ y\n",
        "\n",
        "# Extract coefficients for each independent variable and the intercept.\n",
        "slope_x1, slope_x2, intercept = coefficients"
      ],
      "metadata": {
        "id": "YITlMsod2Nuv"
      },
      "execution_count": null,
      "outputs": []
    },
    {
      "cell_type": "code",
      "source": [
        "# Calculate predicted y values.\n",
        "pred_y = slope_x1 * x1 + slope_x2 * x2 + intercept\n",
        "\n",
        "# View the output.\n",
        "pred_y"
      ],
      "metadata": {
        "colab": {
          "base_uri": "https://localhost:8080/"
        },
        "id": "M2RSspf42NxW",
        "outputId": "3cffca8e-7d74-4ea3-bd68-1111c0c20b58"
      },
      "execution_count": null,
      "outputs": [
        {
          "output_type": "execute_result",
          "data": {
            "text/plain": [
              "array([ 2.09321528,  3.06796107,  3.81494776,  5.04930735,  5.89549813,\n",
              "        7.21386242,  7.9170268 ,  8.80631191, 10.08158187, 11.06028741])"
            ]
          },
          "metadata": {},
          "execution_count": 14
        }
      ]
    },
    {
      "cell_type": "code",
      "source": [
        "# Calculate R-squared.\n",
        "ss_total = np.sum((y - np.mean(y))**2)\n",
        "ss_residual = np.sum((y - pred_y)**2)\n",
        "r_squared2 = 1 - (ss_residual / ss_total)\n",
        "\n",
        "# Display coefficients and R-squared.\n",
        "print(\"Slope (x1):\", slope_x1)\n",
        "print(\"Slope (x2):\", slope_x2)\n",
        "print(\"Intercept:\", intercept)\n",
        "print(\"R-squared:\", r_squared2)"
      ],
      "metadata": {
        "colab": {
          "base_uri": "https://localhost:8080/"
        },
        "id": "_6h71FA72Nz7",
        "outputId": "e37a220c-df94-4bc9-943f-268351378292"
      },
      "execution_count": null,
      "outputs": [
        {
          "output_type": "stream",
          "name": "stdout",
          "text": [
            "Slope (x1): 0.7567703410951618\n",
            "Slope (x2): 0.08327671992433883\n",
            "Intercept: 1.044248433888232\n",
            "R-squared: 0.9980444736937332\n"
          ]
        }
      ]
    },
    {
      "cell_type": "markdown",
      "source": [
        "# Key information\n",
        "The demonstrations illustrated how to find the coefficients for a simple linear regression (one independent and one dependent variable), and a multiple linear regression (two or more independent variables and one dependent variable).\n",
        "\n",
        "## Reflect\n",
        "What are the practical applications of this technique?\n",
        "\n",
        "> Select the pen from the toolbar to add your entry."
      ],
      "metadata": {
        "id": "DRV_T04wquOl"
      }
    }
  ],
  "metadata": {
    "kernelspec": {
      "display_name": "Python 3",
      "language": "python",
      "name": "python3"
    },
    "language_info": {
      "name": "python",
      "version": "3.6.4",
      "mimetype": "text/x-python",
      "codemirror_mode": {
        "name": "ipython",
        "version": 3
      },
      "pygments_lexer": "ipython3",
      "nbconvert_exporter": "python",
      "file_extension": ".py"
    },
    "colab": {
      "provenance": [],
      "include_colab_link": true
    }
  },
  "nbformat": 4,
  "nbformat_minor": 0
}