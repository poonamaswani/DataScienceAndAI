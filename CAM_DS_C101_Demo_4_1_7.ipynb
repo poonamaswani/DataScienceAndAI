{
  "nbformat": 4,
  "nbformat_minor": 0,
  "metadata": {
    "colab": {
      "provenance": [],
      "include_colab_link": true
    },
    "kernelspec": {
      "name": "python3",
      "display_name": "Python 3"
    },
    "language_info": {
      "name": "python"
    }
  },
  "cells": [
    {
      "cell_type": "markdown",
      "metadata": {
        "id": "view-in-github",
        "colab_type": "text"
      },
      "source": [
        "<a href=\"https://colab.research.google.com/github/poonamaswani/DataScienceAndAI/blob/main/CAM_DS_C101_Demo_4_1_7.ipynb\" target=\"_parent\"><img src=\"https://colab.research.google.com/assets/colab-badge.svg\" alt=\"Open In Colab\"/></a>"
      ]
    },
    {
      "cell_type": "markdown",
      "source": [
        "**First things first** - please go to 'File' and select 'Save a copy in Drive' so that you have your own version of this activity set up and ready to use.\n",
        "Remember to update the portfolio index link to your own work once completed!"
      ],
      "metadata": {
        "id": "LbIeLyv6qFDU"
      }
    },
    {
      "cell_type": "markdown",
      "source": [
        "## Demonstration 4.1.7 Feature importance and feature selection\n",
        "\n",
        "The breast cancer data set was initially curated by Dr William Wolberg at the University of Wisconsin-Madison. It was created based on the fine needle aspirate of breast masses and the corresponding digitalised images. Each feature represents an image of a fine needle aspirate of a breast mass.\n",
        "This data set is often used to explain concepts in machine learning. For example, predictive models that could accurately classify tumours in breast cancer patients as benign (non-cancerous) or malignant (cancerous).\n",
        "\n",
        "The data set comprises several features extracted from the digitised image of the FNA (fine needle aspiration). These features describe characteristics of the cell nuclei present in the image. Typically, the data set includes 30 features, such as:\n",
        "- `Radius`: mean of distances from the center to points on the perimeter\n",
        "- `Texture`: standard deviation of grayscale values\n",
        "- `Smoothness`: local variation in radius lengths\n",
        "- `Concavity`: severity of concave portions of the contour\n",
        "- `Concave points`: number of concave portions of the contour\n",
        "- `Target`: indicates whether the cancer is benign or malignant, making it a binary classification problem.\n",
        "\n",
        "Follow the demonstration to learn about the importance and common methods to determine feature importance and perform feature selection. In this demonstration, you will learn:\n",
        "- two methods to determine feature importance\n",
        "- two methods to perform feature selection\n",
        "- how to interpret the accuracy score.\n",
        "\n",
        "> Please note that your output might differ between runs."
      ],
      "metadata": {
        "id": "ZPdL2Xjglbo4"
      }
    },
    {
      "cell_type": "code",
      "source": [
        "# Import the necessary libraries.\n",
        "import numpy as np\n",
        "import pandas as pd\n",
        "\n",
        "# Load the data.\n",
        "from sklearn.datasets import load_breast_cancer\n",
        "\n",
        "# Load the Breast Cancer data set.\n",
        "bc_dataset = load_breast_cancer()\n",
        "\n",
        "# Convert data set into a DataFrame.\n",
        "df_bc = pd.DataFrame(bc_dataset.data,\n",
        "                     columns=bc_dataset.feature_names)\n",
        "\n",
        "# Add the target variable to the DataFrame.\n",
        "df_bc['target'] = bc_dataset.target\n",
        "\n",
        "# Set the variables for features and target.\n",
        "X = bc_dataset.data\n",
        "y = bc_dataset.target\n",
        "\n",
        "# Optionally, view the first few rows of the DataFrame.\n",
        "print(df_bc.shape)\n",
        "df_bc.head()"
      ],
      "metadata": {
        "id": "3heF3k_0SMp9",
        "colab": {
          "base_uri": "https://localhost:8080/",
          "height": 270
        },
        "outputId": "6505c7d6-2abd-4fad-c055-1e3cdbc4f902"
      },
      "execution_count": null,
      "outputs": [
        {
          "output_type": "stream",
          "name": "stdout",
          "text": [
            "(569, 31)\n"
          ]
        },
        {
          "output_type": "execute_result",
          "data": {
            "text/plain": [
              "   mean radius  mean texture  mean perimeter  mean area  mean smoothness  \\\n",
              "0        17.99         10.38          122.80     1001.0          0.11840   \n",
              "1        20.57         17.77          132.90     1326.0          0.08474   \n",
              "2        19.69         21.25          130.00     1203.0          0.10960   \n",
              "3        11.42         20.38           77.58      386.1          0.14250   \n",
              "4        20.29         14.34          135.10     1297.0          0.10030   \n",
              "\n",
              "   mean compactness  mean concavity  mean concave points  mean symmetry  \\\n",
              "0           0.27760          0.3001              0.14710         0.2419   \n",
              "1           0.07864          0.0869              0.07017         0.1812   \n",
              "2           0.15990          0.1974              0.12790         0.2069   \n",
              "3           0.28390          0.2414              0.10520         0.2597   \n",
              "4           0.13280          0.1980              0.10430         0.1809   \n",
              "\n",
              "   mean fractal dimension  ...  worst texture  worst perimeter  worst area  \\\n",
              "0                 0.07871  ...          17.33           184.60      2019.0   \n",
              "1                 0.05667  ...          23.41           158.80      1956.0   \n",
              "2                 0.05999  ...          25.53           152.50      1709.0   \n",
              "3                 0.09744  ...          26.50            98.87       567.7   \n",
              "4                 0.05883  ...          16.67           152.20      1575.0   \n",
              "\n",
              "   worst smoothness  worst compactness  worst concavity  worst concave points  \\\n",
              "0            0.1622             0.6656           0.7119                0.2654   \n",
              "1            0.1238             0.1866           0.2416                0.1860   \n",
              "2            0.1444             0.4245           0.4504                0.2430   \n",
              "3            0.2098             0.8663           0.6869                0.2575   \n",
              "4            0.1374             0.2050           0.4000                0.1625   \n",
              "\n",
              "   worst symmetry  worst fractal dimension  target  \n",
              "0          0.4601                  0.11890       0  \n",
              "1          0.2750                  0.08902       0  \n",
              "2          0.3613                  0.08758       0  \n",
              "3          0.6638                  0.17300       0  \n",
              "4          0.2364                  0.07678       0  \n",
              "\n",
              "[5 rows x 31 columns]"
            ],
            "text/html": [
              "\n",
              "  <div id=\"df-989ef90a-7fe9-4170-a2a0-fd937b4f032d\" class=\"colab-df-container\">\n",
              "    <div>\n",
              "<style scoped>\n",
              "    .dataframe tbody tr th:only-of-type {\n",
              "        vertical-align: middle;\n",
              "    }\n",
              "\n",
              "    .dataframe tbody tr th {\n",
              "        vertical-align: top;\n",
              "    }\n",
              "\n",
              "    .dataframe thead th {\n",
              "        text-align: right;\n",
              "    }\n",
              "</style>\n",
              "<table border=\"1\" class=\"dataframe\">\n",
              "  <thead>\n",
              "    <tr style=\"text-align: right;\">\n",
              "      <th></th>\n",
              "      <th>mean radius</th>\n",
              "      <th>mean texture</th>\n",
              "      <th>mean perimeter</th>\n",
              "      <th>mean area</th>\n",
              "      <th>mean smoothness</th>\n",
              "      <th>mean compactness</th>\n",
              "      <th>mean concavity</th>\n",
              "      <th>mean concave points</th>\n",
              "      <th>mean symmetry</th>\n",
              "      <th>mean fractal dimension</th>\n",
              "      <th>...</th>\n",
              "      <th>worst texture</th>\n",
              "      <th>worst perimeter</th>\n",
              "      <th>worst area</th>\n",
              "      <th>worst smoothness</th>\n",
              "      <th>worst compactness</th>\n",
              "      <th>worst concavity</th>\n",
              "      <th>worst concave points</th>\n",
              "      <th>worst symmetry</th>\n",
              "      <th>worst fractal dimension</th>\n",
              "      <th>target</th>\n",
              "    </tr>\n",
              "  </thead>\n",
              "  <tbody>\n",
              "    <tr>\n",
              "      <th>0</th>\n",
              "      <td>17.99</td>\n",
              "      <td>10.38</td>\n",
              "      <td>122.80</td>\n",
              "      <td>1001.0</td>\n",
              "      <td>0.11840</td>\n",
              "      <td>0.27760</td>\n",
              "      <td>0.3001</td>\n",
              "      <td>0.14710</td>\n",
              "      <td>0.2419</td>\n",
              "      <td>0.07871</td>\n",
              "      <td>...</td>\n",
              "      <td>17.33</td>\n",
              "      <td>184.60</td>\n",
              "      <td>2019.0</td>\n",
              "      <td>0.1622</td>\n",
              "      <td>0.6656</td>\n",
              "      <td>0.7119</td>\n",
              "      <td>0.2654</td>\n",
              "      <td>0.4601</td>\n",
              "      <td>0.11890</td>\n",
              "      <td>0</td>\n",
              "    </tr>\n",
              "    <tr>\n",
              "      <th>1</th>\n",
              "      <td>20.57</td>\n",
              "      <td>17.77</td>\n",
              "      <td>132.90</td>\n",
              "      <td>1326.0</td>\n",
              "      <td>0.08474</td>\n",
              "      <td>0.07864</td>\n",
              "      <td>0.0869</td>\n",
              "      <td>0.07017</td>\n",
              "      <td>0.1812</td>\n",
              "      <td>0.05667</td>\n",
              "      <td>...</td>\n",
              "      <td>23.41</td>\n",
              "      <td>158.80</td>\n",
              "      <td>1956.0</td>\n",
              "      <td>0.1238</td>\n",
              "      <td>0.1866</td>\n",
              "      <td>0.2416</td>\n",
              "      <td>0.1860</td>\n",
              "      <td>0.2750</td>\n",
              "      <td>0.08902</td>\n",
              "      <td>0</td>\n",
              "    </tr>\n",
              "    <tr>\n",
              "      <th>2</th>\n",
              "      <td>19.69</td>\n",
              "      <td>21.25</td>\n",
              "      <td>130.00</td>\n",
              "      <td>1203.0</td>\n",
              "      <td>0.10960</td>\n",
              "      <td>0.15990</td>\n",
              "      <td>0.1974</td>\n",
              "      <td>0.12790</td>\n",
              "      <td>0.2069</td>\n",
              "      <td>0.05999</td>\n",
              "      <td>...</td>\n",
              "      <td>25.53</td>\n",
              "      <td>152.50</td>\n",
              "      <td>1709.0</td>\n",
              "      <td>0.1444</td>\n",
              "      <td>0.4245</td>\n",
              "      <td>0.4504</td>\n",
              "      <td>0.2430</td>\n",
              "      <td>0.3613</td>\n",
              "      <td>0.08758</td>\n",
              "      <td>0</td>\n",
              "    </tr>\n",
              "    <tr>\n",
              "      <th>3</th>\n",
              "      <td>11.42</td>\n",
              "      <td>20.38</td>\n",
              "      <td>77.58</td>\n",
              "      <td>386.1</td>\n",
              "      <td>0.14250</td>\n",
              "      <td>0.28390</td>\n",
              "      <td>0.2414</td>\n",
              "      <td>0.10520</td>\n",
              "      <td>0.2597</td>\n",
              "      <td>0.09744</td>\n",
              "      <td>...</td>\n",
              "      <td>26.50</td>\n",
              "      <td>98.87</td>\n",
              "      <td>567.7</td>\n",
              "      <td>0.2098</td>\n",
              "      <td>0.8663</td>\n",
              "      <td>0.6869</td>\n",
              "      <td>0.2575</td>\n",
              "      <td>0.6638</td>\n",
              "      <td>0.17300</td>\n",
              "      <td>0</td>\n",
              "    </tr>\n",
              "    <tr>\n",
              "      <th>4</th>\n",
              "      <td>20.29</td>\n",
              "      <td>14.34</td>\n",
              "      <td>135.10</td>\n",
              "      <td>1297.0</td>\n",
              "      <td>0.10030</td>\n",
              "      <td>0.13280</td>\n",
              "      <td>0.1980</td>\n",
              "      <td>0.10430</td>\n",
              "      <td>0.1809</td>\n",
              "      <td>0.05883</td>\n",
              "      <td>...</td>\n",
              "      <td>16.67</td>\n",
              "      <td>152.20</td>\n",
              "      <td>1575.0</td>\n",
              "      <td>0.1374</td>\n",
              "      <td>0.2050</td>\n",
              "      <td>0.4000</td>\n",
              "      <td>0.1625</td>\n",
              "      <td>0.2364</td>\n",
              "      <td>0.07678</td>\n",
              "      <td>0</td>\n",
              "    </tr>\n",
              "  </tbody>\n",
              "</table>\n",
              "<p>5 rows × 31 columns</p>\n",
              "</div>\n",
              "    <div class=\"colab-df-buttons\">\n",
              "\n",
              "  <div class=\"colab-df-container\">\n",
              "    <button class=\"colab-df-convert\" onclick=\"convertToInteractive('df-989ef90a-7fe9-4170-a2a0-fd937b4f032d')\"\n",
              "            title=\"Convert this dataframe to an interactive table.\"\n",
              "            style=\"display:none;\">\n",
              "\n",
              "  <svg xmlns=\"http://www.w3.org/2000/svg\" height=\"24px\" viewBox=\"0 -960 960 960\">\n",
              "    <path d=\"M120-120v-720h720v720H120Zm60-500h600v-160H180v160Zm220 220h160v-160H400v160Zm0 220h160v-160H400v160ZM180-400h160v-160H180v160Zm440 0h160v-160H620v160ZM180-180h160v-160H180v160Zm440 0h160v-160H620v160Z\"/>\n",
              "  </svg>\n",
              "    </button>\n",
              "\n",
              "  <style>\n",
              "    .colab-df-container {\n",
              "      display:flex;\n",
              "      gap: 12px;\n",
              "    }\n",
              "\n",
              "    .colab-df-convert {\n",
              "      background-color: #E8F0FE;\n",
              "      border: none;\n",
              "      border-radius: 50%;\n",
              "      cursor: pointer;\n",
              "      display: none;\n",
              "      fill: #1967D2;\n",
              "      height: 32px;\n",
              "      padding: 0 0 0 0;\n",
              "      width: 32px;\n",
              "    }\n",
              "\n",
              "    .colab-df-convert:hover {\n",
              "      background-color: #E2EBFA;\n",
              "      box-shadow: 0px 1px 2px rgba(60, 64, 67, 0.3), 0px 1px 3px 1px rgba(60, 64, 67, 0.15);\n",
              "      fill: #174EA6;\n",
              "    }\n",
              "\n",
              "    .colab-df-buttons div {\n",
              "      margin-bottom: 4px;\n",
              "    }\n",
              "\n",
              "    [theme=dark] .colab-df-convert {\n",
              "      background-color: #3B4455;\n",
              "      fill: #D2E3FC;\n",
              "    }\n",
              "\n",
              "    [theme=dark] .colab-df-convert:hover {\n",
              "      background-color: #434B5C;\n",
              "      box-shadow: 0px 1px 3px 1px rgba(0, 0, 0, 0.15);\n",
              "      filter: drop-shadow(0px 1px 2px rgba(0, 0, 0, 0.3));\n",
              "      fill: #FFFFFF;\n",
              "    }\n",
              "  </style>\n",
              "\n",
              "    <script>\n",
              "      const buttonEl =\n",
              "        document.querySelector('#df-989ef90a-7fe9-4170-a2a0-fd937b4f032d button.colab-df-convert');\n",
              "      buttonEl.style.display =\n",
              "        google.colab.kernel.accessAllowed ? 'block' : 'none';\n",
              "\n",
              "      async function convertToInteractive(key) {\n",
              "        const element = document.querySelector('#df-989ef90a-7fe9-4170-a2a0-fd937b4f032d');\n",
              "        const dataTable =\n",
              "          await google.colab.kernel.invokeFunction('convertToInteractive',\n",
              "                                                    [key], {});\n",
              "        if (!dataTable) return;\n",
              "\n",
              "        const docLinkHtml = 'Like what you see? Visit the ' +\n",
              "          '<a target=\"_blank\" href=https://colab.research.google.com/notebooks/data_table.ipynb>data table notebook</a>'\n",
              "          + ' to learn more about interactive tables.';\n",
              "        element.innerHTML = '';\n",
              "        dataTable['output_type'] = 'display_data';\n",
              "        await google.colab.output.renderOutput(dataTable, element);\n",
              "        const docLink = document.createElement('div');\n",
              "        docLink.innerHTML = docLinkHtml;\n",
              "        element.appendChild(docLink);\n",
              "      }\n",
              "    </script>\n",
              "  </div>\n",
              "\n",
              "\n",
              "<div id=\"df-3b04cce1-8692-48d7-a16e-387d8c07a712\">\n",
              "  <button class=\"colab-df-quickchart\" onclick=\"quickchart('df-3b04cce1-8692-48d7-a16e-387d8c07a712')\"\n",
              "            title=\"Suggest charts\"\n",
              "            style=\"display:none;\">\n",
              "\n",
              "<svg xmlns=\"http://www.w3.org/2000/svg\" height=\"24px\"viewBox=\"0 0 24 24\"\n",
              "     width=\"24px\">\n",
              "    <g>\n",
              "        <path d=\"M19 3H5c-1.1 0-2 .9-2 2v14c0 1.1.9 2 2 2h14c1.1 0 2-.9 2-2V5c0-1.1-.9-2-2-2zM9 17H7v-7h2v7zm4 0h-2V7h2v10zm4 0h-2v-4h2v4z\"/>\n",
              "    </g>\n",
              "</svg>\n",
              "  </button>\n",
              "\n",
              "<style>\n",
              "  .colab-df-quickchart {\n",
              "      --bg-color: #E8F0FE;\n",
              "      --fill-color: #1967D2;\n",
              "      --hover-bg-color: #E2EBFA;\n",
              "      --hover-fill-color: #174EA6;\n",
              "      --disabled-fill-color: #AAA;\n",
              "      --disabled-bg-color: #DDD;\n",
              "  }\n",
              "\n",
              "  [theme=dark] .colab-df-quickchart {\n",
              "      --bg-color: #3B4455;\n",
              "      --fill-color: #D2E3FC;\n",
              "      --hover-bg-color: #434B5C;\n",
              "      --hover-fill-color: #FFFFFF;\n",
              "      --disabled-bg-color: #3B4455;\n",
              "      --disabled-fill-color: #666;\n",
              "  }\n",
              "\n",
              "  .colab-df-quickchart {\n",
              "    background-color: var(--bg-color);\n",
              "    border: none;\n",
              "    border-radius: 50%;\n",
              "    cursor: pointer;\n",
              "    display: none;\n",
              "    fill: var(--fill-color);\n",
              "    height: 32px;\n",
              "    padding: 0;\n",
              "    width: 32px;\n",
              "  }\n",
              "\n",
              "  .colab-df-quickchart:hover {\n",
              "    background-color: var(--hover-bg-color);\n",
              "    box-shadow: 0 1px 2px rgba(60, 64, 67, 0.3), 0 1px 3px 1px rgba(60, 64, 67, 0.15);\n",
              "    fill: var(--button-hover-fill-color);\n",
              "  }\n",
              "\n",
              "  .colab-df-quickchart-complete:disabled,\n",
              "  .colab-df-quickchart-complete:disabled:hover {\n",
              "    background-color: var(--disabled-bg-color);\n",
              "    fill: var(--disabled-fill-color);\n",
              "    box-shadow: none;\n",
              "  }\n",
              "\n",
              "  .colab-df-spinner {\n",
              "    border: 2px solid var(--fill-color);\n",
              "    border-color: transparent;\n",
              "    border-bottom-color: var(--fill-color);\n",
              "    animation:\n",
              "      spin 1s steps(1) infinite;\n",
              "  }\n",
              "\n",
              "  @keyframes spin {\n",
              "    0% {\n",
              "      border-color: transparent;\n",
              "      border-bottom-color: var(--fill-color);\n",
              "      border-left-color: var(--fill-color);\n",
              "    }\n",
              "    20% {\n",
              "      border-color: transparent;\n",
              "      border-left-color: var(--fill-color);\n",
              "      border-top-color: var(--fill-color);\n",
              "    }\n",
              "    30% {\n",
              "      border-color: transparent;\n",
              "      border-left-color: var(--fill-color);\n",
              "      border-top-color: var(--fill-color);\n",
              "      border-right-color: var(--fill-color);\n",
              "    }\n",
              "    40% {\n",
              "      border-color: transparent;\n",
              "      border-right-color: var(--fill-color);\n",
              "      border-top-color: var(--fill-color);\n",
              "    }\n",
              "    60% {\n",
              "      border-color: transparent;\n",
              "      border-right-color: var(--fill-color);\n",
              "    }\n",
              "    80% {\n",
              "      border-color: transparent;\n",
              "      border-right-color: var(--fill-color);\n",
              "      border-bottom-color: var(--fill-color);\n",
              "    }\n",
              "    90% {\n",
              "      border-color: transparent;\n",
              "      border-bottom-color: var(--fill-color);\n",
              "    }\n",
              "  }\n",
              "</style>\n",
              "\n",
              "  <script>\n",
              "    async function quickchart(key) {\n",
              "      const quickchartButtonEl =\n",
              "        document.querySelector('#' + key + ' button');\n",
              "      quickchartButtonEl.disabled = true;  // To prevent multiple clicks.\n",
              "      quickchartButtonEl.classList.add('colab-df-spinner');\n",
              "      try {\n",
              "        const charts = await google.colab.kernel.invokeFunction(\n",
              "            'suggestCharts', [key], {});\n",
              "      } catch (error) {\n",
              "        console.error('Error during call to suggestCharts:', error);\n",
              "      }\n",
              "      quickchartButtonEl.classList.remove('colab-df-spinner');\n",
              "      quickchartButtonEl.classList.add('colab-df-quickchart-complete');\n",
              "    }\n",
              "    (() => {\n",
              "      let quickchartButtonEl =\n",
              "        document.querySelector('#df-3b04cce1-8692-48d7-a16e-387d8c07a712 button');\n",
              "      quickchartButtonEl.style.display =\n",
              "        google.colab.kernel.accessAllowed ? 'block' : 'none';\n",
              "    })();\n",
              "  </script>\n",
              "</div>\n",
              "    </div>\n",
              "  </div>\n"
            ],
            "application/vnd.google.colaboratory.intrinsic+json": {
              "type": "dataframe",
              "variable_name": "df_bc"
            }
          },
          "metadata": {},
          "execution_count": 56
        }
      ]
    },
    {
      "cell_type": "markdown",
      "source": [
        "### a. Determine feature information with the mutual importance (MI) method\n",
        "> Model 1: Original data set"
      ],
      "metadata": {
        "id": "n5cRdYvFUaC5"
      }
    },
    {
      "cell_type": "code",
      "source": [
        "# Import necessary library.\n",
        "from sklearn.model_selection import train_test_split as tts\n",
        "\n",
        "# Split the data into train and test data sets.\n",
        "X_train_1, X_test_1, y_train, y_test = tts(X, y,\n",
        "                                           random_state=10,\n",
        "                                           stratify=y)"
      ],
      "metadata": {
        "id": "don62mUPSMno"
      },
      "execution_count": null,
      "outputs": []
    },
    {
      "cell_type": "code",
      "source": [
        "# Employ mutual information (MI) to determine feature importance.\n",
        "from sklearn.feature_selection import mutual_info_classif\n",
        "\n",
        "mi_score = mutual_info_classif(X, y)\n",
        "\n",
        "# View the MI score.\n",
        "print(mi_score)"
      ],
      "metadata": {
        "id": "gDqv36IxSMk9",
        "colab": {
          "base_uri": "https://localhost:8080/"
        },
        "outputId": "721773bd-e5d0-4061-9edf-c8a68b0ffc1c"
      },
      "execution_count": null,
      "outputs": [
        {
          "output_type": "stream",
          "name": "stdout",
          "text": [
            "[0.36435324 0.09300462 0.40464817 0.35697272 0.08246651 0.21381851\n",
            " 0.37489619 0.43994706 0.07004704 0.00927338 0.24649732 0.\n",
            " 0.27587137 0.34300687 0.01540288 0.07606957 0.11789836 0.1236388\n",
            " 0.01411356 0.04084286 0.45680862 0.11741536 0.4746651  0.46423518\n",
            " 0.09643943 0.22354573 0.31706898 0.43801304 0.0934286  0.06846889]\n"
          ]
        }
      ]
    },
    {
      "cell_type": "code",
      "source": [
        "# Find the column number of features (original data set) where MI > 0.1.\n",
        "mi_score_selected_index = np.where(mi_score > 0.1)[0]\n",
        "\n",
        "# View the columns.\n",
        "print(\"Index numbers of features with MI > 0.1:\", mi_score_selected_index)\n",
        "\n",
        "# Create a subset of the data containing features with MI > 0.1.\n",
        "X_2 = X[:, mi_score_selected_index]\n",
        "\n",
        "# View the shape of the data.\n",
        "X_2.shape"
      ],
      "metadata": {
        "id": "Fj7V3xAaSy5m",
        "colab": {
          "base_uri": "https://localhost:8080/"
        },
        "outputId": "b7b42304-f8d6-491a-9475-fc1dfbe7900b"
      },
      "execution_count": null,
      "outputs": [
        {
          "output_type": "stream",
          "name": "stdout",
          "text": [
            "Index numbers of features with MI > 0.1: [ 0  2  3  5  6  7 10 12 13 16 17 20 21 22 23 25 26 27]\n"
          ]
        },
        {
          "output_type": "execute_result",
          "data": {
            "text/plain": [
              "(569, 18)"
            ]
          },
          "metadata": {},
          "execution_count": 59
        }
      ]
    },
    {
      "cell_type": "code",
      "source": [
        "# Split the new data set into train and test data.\n",
        "# Note: This is the second X_test, X_train, y_test, and y_train data sets.\n",
        "X_train_2, X_test_2, y_train, y_test = tts(X_2, y,\n",
        "                                           random_state=10,\n",
        "                                           stratify=y)"
      ],
      "metadata": {
        "id": "YY8P69aJSy0q"
      },
      "execution_count": null,
      "outputs": []
    },
    {
      "cell_type": "code",
      "source": [
        "# Find the column number of features (original data set) where MI < 0.1.\n",
        "mi_score_selected_index = np.where(mi_score < 0.1)[0]\n",
        "\n",
        "# Create a subset of the data containing features with MI < 0.1.\n",
        "# Note: This is the third X_test, X_train, y_test, and y_train data sets.\n",
        "X_3 = X[:,mi_score_selected_index]\n",
        "\n",
        "# View the shape of the data.\n",
        "X_3.shape"
      ],
      "metadata": {
        "id": "X7hNk8KKSyyE",
        "colab": {
          "base_uri": "https://localhost:8080/"
        },
        "outputId": "c9fafc2e-ef1b-432d-95b8-8710b9462a17"
      },
      "execution_count": null,
      "outputs": [
        {
          "output_type": "execute_result",
          "data": {
            "text/plain": [
              "(569, 12)"
            ]
          },
          "metadata": {},
          "execution_count": 61
        }
      ]
    },
    {
      "cell_type": "code",
      "source": [
        "# Split the new data set into train and test data.\n",
        "X_train_3, X_test_3, y_train, y_test = tts(X_3, y,\n",
        "                                           random_state=10,\n",
        "                                           stratify=y)"
      ],
      "metadata": {
        "id": "_vDKD4r1Sys1"
      },
      "execution_count": null,
      "outputs": []
    },
    {
      "cell_type": "markdown",
      "source": [
        "> Test the accuracy of three models:\n",
        "> - Model 1: Original data set\n",
        "> - Model 2: MI > 0.1\n",
        "> - Model 3: MI < 0.1"
      ],
      "metadata": {
        "id": "sl-NXwTVjKPk"
      }
    },
    {
      "cell_type": "code",
      "source": [
        "# Compare the accuracy of the original data set, data set with MI > 0.1, and data set with MI < 0.1.\n",
        "from sklearn.tree import DecisionTreeClassifier\n",
        "\n",
        "# Run the DecisionTreeClassifier on the three models.\n",
        "model_1 = DecisionTreeClassifier().fit(X_train_1, y_train)\n",
        "model_2 = DecisionTreeClassifier().fit(X_train_2, y_train)\n",
        "model_3 = DecisionTreeClassifier().fit(X_train_3, y_train)\n",
        "\n",
        "# Create the accuracy score.\n",
        "score_1 = model_1.score(X_test_1, y_test)\n",
        "score_2 = model_2.score(X_test_2, y_test)\n",
        "score_3 = model_3.score(X_test_3, y_test)\n",
        "\n",
        "# View the scores.\n",
        "print(f\"Model 1: {score_1}\\n Model 2: {score_2}\\n Model 3: {score_3}\")"
      ],
      "metadata": {
        "id": "Gy1ebhLdSyp8",
        "colab": {
          "base_uri": "https://localhost:8080/"
        },
        "outputId": "7b6a9d15-e24e-4375-88fe-95b6e98019eb"
      },
      "execution_count": null,
      "outputs": [
        {
          "output_type": "stream",
          "name": "stdout",
          "text": [
            "Model 1: 0.9370629370629371\n",
            " Model 2: 0.958041958041958\n",
            " Model 3: 0.8671328671328671\n"
          ]
        }
      ]
    },
    {
      "cell_type": "code",
      "source": [
        "# View the feature indices of Model 2.\n",
        "mi_score_selected_index = np.where(mi_score > 0.1)[0]\n",
        "\n",
        "# View the columns.\n",
        "print(\"Indices of selected features (Model 2):\", mi_score_selected_index)"
      ],
      "metadata": {
        "colab": {
          "base_uri": "https://localhost:8080/"
        },
        "id": "kQ4wJlKVlYGG",
        "outputId": "cae1b808-aac8-4888-d881-f7b191b58a4a"
      },
      "execution_count": null,
      "outputs": [
        {
          "output_type": "stream",
          "name": "stdout",
          "text": [
            "Indices of selected features (Model 2): [ 0  2  3  5  6  7 10 12 13 16 17 20 21 22 23 25 26 27]\n"
          ]
        }
      ]
    },
    {
      "cell_type": "markdown",
      "source": [
        "### b. Perform feature selection with automatic selection"
      ],
      "metadata": {
        "id": "wQO2gResUfiW"
      }
    },
    {
      "cell_type": "code",
      "source": [
        "# Automatically select features with the SelectKBest() method.\n",
        "from sklearn.feature_selection import SelectKBest\n",
        "\n",
        "selector = SelectKBest(mutual_info_classif, k=20)\n",
        "X_reduced_best = selector.fit_transform(X, y)\n",
        "\n",
        "# View the shape of the data.\n",
        "print(X_reduced_best.shape)"
      ],
      "metadata": {
        "id": "OpVzfooYSMfX",
        "colab": {
          "base_uri": "https://localhost:8080/"
        },
        "outputId": "6b7a54cd-3d9c-41dd-af20-56a7828d1844"
      },
      "execution_count": null,
      "outputs": [
        {
          "output_type": "stream",
          "name": "stdout",
          "text": [
            "(569, 20)\n"
          ]
        }
      ]
    },
    {
      "cell_type": "code",
      "source": [
        "# Employ the SelectPercentile() method.\n",
        "from sklearn.feature_selection import SelectPercentile\n",
        "\n",
        "selector_2 = SelectPercentile(mutual_info_classif, percentile=25)\n",
        "X_reduced_percentile = selector_2.fit_transform(X, y)\n",
        "\n",
        "# View the shape of the data.\n",
        "print(X_reduced_percentile.shape)"
      ],
      "metadata": {
        "id": "MSXITpx5SLnX",
        "colab": {
          "base_uri": "https://localhost:8080/"
        },
        "outputId": "59fec6ce-f1ee-4349-8258-d0f909c2d5a7"
      },
      "execution_count": null,
      "outputs": [
        {
          "output_type": "stream",
          "name": "stdout",
          "text": [
            "(569, 8)\n"
          ]
        }
      ]
    },
    {
      "cell_type": "markdown",
      "source": [
        "> Test the accuracy of the two models:\n",
        "> - Model 4: Top 20 features based on the MI method\n",
        "> - Model 5: Top 8 features based on the percentile method"
      ],
      "metadata": {
        "id": "Ea9zLx6ttlgd"
      }
    },
    {
      "cell_type": "code",
      "source": [
        "# Split the data into train and test data for both methods.\n",
        "# Note: This is the fourth X_test, X_train, y_test, and y_train data sets.\n",
        "X_train_4, X_test_4, y_train, y_test = tts(X_reduced_best, y,\n",
        "                                           random_state=10,\n",
        "                                           stratify=y)\n",
        "\n",
        "# Note: This is the fifth X_test, X_train, y_test, and y_train data sets.\n",
        "X_train_5, X_test_5, y_train, y_test = tts(X_reduced_percentile, y,\n",
        "                                           random_state=10,\n",
        "                                           stratify=y)"
      ],
      "metadata": {
        "id": "wMn5dUCrUlF3"
      },
      "execution_count": null,
      "outputs": []
    },
    {
      "cell_type": "code",
      "source": [
        "# View the accuracy of both methods.\n",
        "print(f\"Model 1: {score_1}\")\n",
        "\n",
        "model_4 = DecisionTreeClassifier().fit(X_train_4, y_train)\n",
        "score_4 = model_4.score(X_test_4, y_test)\n",
        "print(f\"Model 4: {score_4}\")\n",
        "\n",
        "model_5 = DecisionTreeClassifier().fit(X_train_5, y_train)\n",
        "score_5 = model_5.score(X_test_5, y_test)\n",
        "print(f\"Model 5: {score_5}\")"
      ],
      "metadata": {
        "id": "hLKR0L65UlDF",
        "colab": {
          "base_uri": "https://localhost:8080/"
        },
        "outputId": "4fddd50f-f557-4036-c5f8-f2c766f76b4e"
      },
      "execution_count": null,
      "outputs": [
        {
          "output_type": "stream",
          "name": "stdout",
          "text": [
            "Model 1: 0.9370629370629371\n",
            "Model 4: 0.951048951048951\n",
            "Model 5: 0.9020979020979021\n"
          ]
        }
      ]
    },
    {
      "cell_type": "code",
      "source": [
        "# Get the Boolean mask indicating which features are selected.\n",
        "selected_features_mask = selector_2.get_support()\n",
        "\n",
        "# Find the indices of the selected features.\n",
        "selected_features_indices = np.where(selected_features_mask)[0]\n",
        "\n",
        "# Print the indices of the selected features.\n",
        "print(\"Indices of selected features (Model 5):\", selected_features_indices)"
      ],
      "metadata": {
        "colab": {
          "base_uri": "https://localhost:8080/"
        },
        "id": "FDJXkTlE6mrX",
        "outputId": "318ca4fb-1523-4771-c47c-ff4ab5614fb6"
      },
      "execution_count": null,
      "outputs": [
        {
          "output_type": "stream",
          "name": "stdout",
          "text": [
            "Indices of selected features (Model 5): [ 0  2  6  7 20 22 23 27]\n"
          ]
        }
      ]
    },
    {
      "cell_type": "markdown",
      "source": [
        "### c. Feature selection with the recursive feature elimination (RFE) method"
      ],
      "metadata": {
        "id": "WSbB5ChhmvKu"
      }
    },
    {
      "cell_type": "code",
      "source": [
        "# Employ recursive feature elimination (RFE).\n",
        "from sklearn.feature_selection import RFE\n",
        "\n",
        "rfe = RFE(DecisionTreeClassifier(), n_features_to_select=10, step=1)\n",
        "rfe.fit(X, y)\n",
        "ranking = rfe.ranking_\n",
        "\n",
        "# View the ranking of features.\n",
        "print(ranking)"
      ],
      "metadata": {
        "id": "Y0cOAoU5UlAR",
        "colab": {
          "base_uri": "https://localhost:8080/"
        },
        "outputId": "7a02c4c8-9438-46a2-9856-3d8aff73b2d0"
      },
      "execution_count": null,
      "outputs": [
        {
          "output_type": "stream",
          "name": "stdout",
          "text": [
            "[21 15 18 13 12  8 10  1  7  6  3  5 16  1  2 20 14 11  1  4  1  1  1  1\n",
            "  1  9  1  1 17 19]\n"
          ]
        }
      ]
    },
    {
      "cell_type": "code",
      "source": [
        "# Transform the data.\n",
        "X_selected_RFE = rfe.transform(X)\n",
        "\n",
        "# View the shape of the data.\n",
        "X_selected_RFE.shape"
      ],
      "metadata": {
        "id": "BC2Qfm8DUk9t",
        "colab": {
          "base_uri": "https://localhost:8080/"
        },
        "outputId": "e0c053a8-55a8-4ee4-87d8-eea09858f301"
      },
      "execution_count": null,
      "outputs": [
        {
          "output_type": "execute_result",
          "data": {
            "text/plain": [
              "(569, 10)"
            ]
          },
          "metadata": {},
          "execution_count": 71
        }
      ]
    },
    {
      "cell_type": "markdown",
      "source": [
        "> Test the accuracy of the model:\n",
        "> - Model 6: Top 10 features based on the RFE method"
      ],
      "metadata": {
        "id": "uA7znhcdxv-2"
      }
    },
    {
      "cell_type": "code",
      "source": [
        "# Split the data into train and test data.\n",
        "# Note: This is the sixth X_test, X_train, y_test, and y_train data sets.\n",
        "X_train_6, X_test_6, y_train, y_test = tts(X_selected_RFE, y,\n",
        "                                           random_state=10,\n",
        "                                           stratify=y)"
      ],
      "metadata": {
        "id": "W-IrGdG4Uk65"
      },
      "execution_count": null,
      "outputs": []
    },
    {
      "cell_type": "code",
      "source": [
        "# View the accuracy of the output.\n",
        "model_6 = DecisionTreeClassifier().fit(X_train_6, y_train)\n",
        "score_6 = model_6.score(X_test_6, y_test)\n",
        "\n",
        "# View the accuracy scores.\n",
        "print(f\"Model 1: {score_1}\")\n",
        "print(f\"Model 6: {score_6}\")"
      ],
      "metadata": {
        "id": "yzT-YoFeXQ_v",
        "colab": {
          "base_uri": "https://localhost:8080/"
        },
        "outputId": "d24bd2da-d36a-4ea1-9469-8ad8a47d453e"
      },
      "execution_count": null,
      "outputs": [
        {
          "output_type": "stream",
          "name": "stdout",
          "text": [
            "Model 1: 0.9370629370629371\n",
            "Model 6: 0.951048951048951\n"
          ]
        }
      ]
    },
    {
      "cell_type": "markdown",
      "source": [
        "# Key information\n",
        "Feature importance can be employed to determine the most important features in a data set. Based on the feature importance score, feature selection can be performed with two methods. However, the application of feature selection based on feature importance can have an effect on the accuracy score and performance of a machine learning model.\n",
        "\n",
        "## Reflect\n",
        "What are the practical applications of this technique?\n",
        "\n",
        "> Select the pen from the toolbar to add your entry."
      ],
      "metadata": {
        "id": "p7O6pGDMnWwN"
      }
    }
  ]
}