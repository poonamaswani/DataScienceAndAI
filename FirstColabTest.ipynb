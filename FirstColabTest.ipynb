{
  "nbformat": 4,
  "nbformat_minor": 0,
  "metadata": {
    "colab": {
      "provenance": [],
      "authorship_tag": "ABX9TyOGCMFsIh9liFkDNT1kIwrD",
      "include_colab_link": true
    },
    "kernelspec": {
      "name": "python3",
      "display_name": "Python 3"
    },
    "language_info": {
      "name": "python"
    }
  },
  "cells": [
    {
      "cell_type": "markdown",
      "metadata": {
        "id": "view-in-github",
        "colab_type": "text"
      },
      "source": [
        "<a href=\"https://colab.research.google.com/github/poonamaswani/DataScienceAndAI/blob/main/FirstColabTest.ipynb\" target=\"_parent\"><img src=\"https://colab.research.google.com/assets/colab-badge.svg\" alt=\"Open In Colab\"/></a>"
      ]
    },
    {
      "cell_type": "code",
      "execution_count": 9,
      "metadata": {
        "colab": {
          "base_uri": "https://localhost:8080/"
        },
        "id": "_4WIQivV2EQR",
        "outputId": "574f19d5-a503-47a6-a927-59a9b91e394f"
      },
      "outputs": [
        {
          "output_type": "stream",
          "name": "stdout",
          "text": [
            "\u001b[?25l     \u001b[90m━━━━━━━━━━━━━━━━━━━━━━━━━━━━━━━━━━━━━━━━\u001b[0m \u001b[32m0.0/43.1 kB\u001b[0m \u001b[31m?\u001b[0m eta \u001b[36m-:--:--\u001b[0m\r\u001b[2K     \u001b[90m━━━━━━━━━━━━━━━━━━━━━━━━━━━━━━━━━━━━━━━━\u001b[0m \u001b[32m43.1/43.1 kB\u001b[0m \u001b[31m3.1 MB/s\u001b[0m eta \u001b[36m0:00:00\u001b[0m\n",
            "\u001b[?25h\u001b[?25l   \u001b[90m━━━━━━━━━━━━━━━━━━━━━━━━━━━━━━━━━━━━━━━━\u001b[0m \u001b[32m0.0/222.6 kB\u001b[0m \u001b[31m?\u001b[0m eta \u001b[36m-:--:--\u001b[0m\r\u001b[2K   \u001b[90m━━━━━━━━━━━━━━━━━━━━━━━━━━━━━━━━━━━━━━━━\u001b[0m \u001b[32m222.6/222.6 kB\u001b[0m \u001b[31m16.4 MB/s\u001b[0m eta \u001b[36m0:00:00\u001b[0m\n",
            "\u001b[?25h"
          ]
        }
      ],
      "source": [
        "%pip install -U -q 'google-genai>=1.0.0'"
      ]
    },
    {
      "cell_type": "code",
      "source": [
        "from google.colab import userdata\n",
        "from google import genai\n",
        "from google.genai import types\n",
        "from IPython.display import Markdown\n",
        "\n",
        "\n",
        "GEMINI_API_KEY = userdata.get('GEMINI_API_KEY')\n",
        "client = genai.Client(api_key=GEMINI_API_KEY)\n",
        "\n",
        "MODEL_ID = \"gemini-2.5-flash\" # @param [\"gemini-2.5-flash-lite\", \"gemini-2.5-flash\", \"gemini-2.5-pro\"] {\"allow-input\":true, isTemplate: true}\n",
        "\n",
        "response = client.models.generate_content(\n",
        "    model=MODEL_ID,\n",
        "    contents=\"Please give me python code to sort a list.\"\n",
        ")\n",
        "\n",
        "Markdown(response.text)"
      ],
      "metadata": {
        "colab": {
          "base_uri": "https://localhost:8080/",
          "height": 1000
        },
        "id": "PW39lGUgCkJO",
        "outputId": "7022e243-22ad-4fcd-ffae-a4b18537813e"
      },
      "execution_count": 12,
      "outputs": [
        {
          "output_type": "execute_result",
          "data": {
            "text/plain": [
              "<IPython.core.display.Markdown object>"
            ],
            "text/markdown": "Python provides incredibly easy and efficient ways to sort lists, thanks to its optimized Timsort algorithm.\n\nThere are two primary ways to sort a list:\n\n1.  **`list.sort()` method:** Sorts the list in-place (modifies the original list).\n2.  **`sorted()` function:** Returns a *new* sorted list, leaving the original list unchanged.\n\nLet's look at examples for both.\n\n---\n\n## 1. Using `list.sort()` (In-Place Sort)\n\nThis method modifies the list directly and doesn't return anything (it returns `None`).\n\n```python\n# Create a list of numbers\nnumbers = [3, 1, 4, 1, 5, 9, 2, 6, 5, 3]\n\nprint(\"Original list (numbers):\", numbers)\n\n# Sort the list in ascending order (default)\nnumbers.sort()\nprint(\"Sorted list (ascending, in-place):\", numbers)\n\n# Sort the list in descending order\nnumbers.sort(reverse=True)\nprint(\"Sorted list (descending, in-place):\", numbers)\n\n# Example with strings\nwords = [\"apple\", \"zebra\", \"banana\", \"cat\", \"dog\"]\nprint(\"\\nOriginal list (words):\", words)\nwords.sort()\nprint(\"Sorted list (words, ascending):\", words)\nwords.sort(reverse=True)\nprint(\"Sorted list (words, descending):\", words)\n```\n\n**Output:**\n\n```\nOriginal list (numbers): [3, 1, 4, 1, 5, 9, 2, 6, 5, 3]\nSorted list (ascending, in-place): [1, 1, 2, 3, 3, 4, 5, 5, 6, 9]\nSorted list (descending, in-place): [9, 6, 5, 5, 4, 3, 3, 2, 1, 1]\n\nOriginal list (words): ['apple', 'zebra', 'banana', 'cat', 'dog']\nSorted list (words, ascending): ['apple', 'banana', 'cat', 'dog', 'zebra']\nSorted list (words, descending): ['zebra', 'dog', 'cat', 'banana', 'apple']\n```\n\n---\n\n## 2. Using `sorted()` Function (Returns a New List)\n\nThis built-in function takes an iterable (like a list, tuple, string, etc.) and returns a *new* sorted list, leaving the original iterable untouched.\n\n```python\n# Create a list of numbers\nnumbers = [3, 1, 4, 1, 5, 9, 2, 6, 5, 3]\n\nprint(\"Original list (numbers):\", numbers)\n\n# Get a new sorted list in ascending order\nsorted_numbers_asc = sorted(numbers)\nprint(\"New sorted list (ascending):\", sorted_numbers_asc)\nprint(\"Original list (still unchanged):\", numbers)\n\n# Get a new sorted list in descending order\nsorted_numbers_desc = sorted(numbers, reverse=True)\nprint(\"New sorted list (descending):\", sorted_numbers_desc)\n\n# Example with strings\nwords = [\"apple\", \"zebra\", \"banana\", \"cat\", \"dog\"]\nprint(\"\\nOriginal list (words):\", words)\nsorted_words = sorted(words)\nprint(\"New sorted list (words, ascending):\", sorted_words)\nprint(\"Original list (words, still unchanged):\", words)\n```\n\n**Output:**\n\n```\nOriginal list (numbers): [3, 1, 4, 1, 5, 9, 2, 6, 5, 3]\nNew sorted list (ascending): [1, 1, 2, 3, 3, 4, 5, 5, 6, 9]\nOriginal list (still unchanged): [3, 1, 4, 1, 5, 9, 2, 6, 5, 3]\nNew sorted list (descending): [9, 6, 5, 5, 4, 3, 3, 2, 1, 1]\n\nOriginal list (words): ['apple', 'zebra', 'banana', 'cat', 'dog']\nNew sorted list (words, ascending): ['apple', 'banana', 'cat', 'dog', 'zebra']\nOriginal list (words, still unchanged): ['apple', 'zebra', 'banana', 'cat', 'dog']\n```\n\n---\n\n## 3. Custom Sorting with `key`\n\nBoth `list.sort()` and `sorted()` accept an optional `key` argument. This argument takes a function that will be called on each item in the list before comparison. This is extremely powerful for custom sorting.\n\nCommon uses for `key`:\n*   Sorting strings by their length.\n*   Sorting a list of tuples by a specific element.\n*   Sorting a list of dictionaries by a specific key's value.\n\n```python\n# Sort strings by length\nwords = [\"banana\", \"apple\", \"grape\", \"kiwi\", \"orange\"]\nprint(\"\\nOriginal words (for custom sort):\", words)\n\n# Sort by length (shortest to longest)\nsorted_by_length = sorted(words, key=len)\nprint(\"Sorted by length (ascending):\", sorted_by_length)\n\n# Sort by length (longest to shortest)\nsorted_by_length_desc = sorted(words, key=len, reverse=True)\nprint(\"Sorted by length (descending):\", sorted_by_length_desc)\n\n# Sort a list of tuples by the second element\n# Each tuple represents (name, age, city)\npeople = [(\"Alice\", 30, \"NY\"), (\"Bob\", 25, \"LA\"), (\"Charlie\", 35, \"Chicago\")]\nprint(\"\\nOriginal people list:\", people)\n\n# Sort by age (second element, index 1)\n# Using a lambda function as the key\nsorted_by_age = sorted(people, key=lambda person: person[1])\nprint(\"Sorted by age:\", sorted_by_age)\n\n# Sort by name (first element, index 0)\nsorted_by_name = sorted(people, key=lambda person: person[0])\nprint(\"Sorted by name:\", sorted_by_name)\n\n# Sort a list of dictionaries by a specific key\nstudents = [\n    {\"name\": \"Eve\", \"score\": 95},\n    {\"name\": \"Frank\", \"score\": 88},\n    {\"name\": \"Grace\", \"score\": 92}\n]\nprint(\"\\nOriginal students list:\", students)\n\n# Sort by score\nsorted_students_by_score = sorted(students, key=lambda student: student[\"score\"], reverse=True)\nprint(\"Sorted students by score (descending):\", sorted_students_by_score)\n```\n\n**Output:**\n\n```\nOriginal words (for custom sort): ['banana', 'apple', 'grape', 'kiwi', 'orange']\nSorted by length (ascending): ['kiwi', 'grape', 'apple', 'banana', 'orange']\nSorted by length (descending): ['banana', 'orange', 'apple', 'grape', 'kiwi']\n\nOriginal people list: [('Alice', 30, 'NY'), ('Bob', 25, 'LA'), ('Charlie', 35, 'Chicago')]\nSorted by age: [('Bob', 25, 'LA'), ('Alice', 30, 'NY'), ('Charlie', 35, 'Chicago')]\nSorted by name: [('Alice', 30, 'NY'), ('Bob', 25, 'LA'), ('Charlie', 35, 'Chicago')]\n\nOriginal students list: [{'name': 'Eve', 'score': 95}, {'name': 'Frank', 'score': 88}, {'name': 'Grace', 'score': 92}]\nSorted students by score (descending): [{'name': 'Eve', 'score': 95}, {'name': 'Grace', 'score': 92}, {'name': 'Frank', 'score': 88}]\n```\n\n---\n\n## When to use which?\n\n*   Use **`.sort()`** when you:\n    *   Don't need to preserve the original order of the list.\n    *   Are working with a very large list and memory efficiency is critical (avoiding creating a copy).\n*   Use **`sorted()`** when you:\n    *   Need to keep the original list intact.\n    *   Want to sort an iterable that isn't a list (e.g., a tuple, set, or the keys of a dictionary).\n\nBoth methods are highly optimized and generally stable (meaning elements with equal keys maintain their original relative order)."
          },
          "metadata": {},
          "execution_count": 12
        }
      ]
    }
  ]
}