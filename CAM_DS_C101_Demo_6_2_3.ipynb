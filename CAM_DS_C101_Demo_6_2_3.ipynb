{
  "nbformat": 4,
  "nbformat_minor": 0,
  "metadata": {
    "colab": {
      "provenance": [],
      "include_colab_link": true
    },
    "kernelspec": {
      "name": "python3",
      "display_name": "Python 3"
    },
    "language_info": {
      "name": "python"
    }
  },
  "cells": [
    {
      "cell_type": "markdown",
      "metadata": {
        "id": "view-in-github",
        "colab_type": "text"
      },
      "source": [
        "<a href=\"https://colab.research.google.com/github/poonamaswani/DataScienceAndAI/blob/main/CAM_DS_C101_Demo_6_2_3.ipynb\" target=\"_parent\"><img src=\"https://colab.research.google.com/assets/colab-badge.svg\" alt=\"Open In Colab\"/></a>"
      ]
    },
    {
      "cell_type": "markdown",
      "source": [
        "<br>\n",
        "\n",
        "**First things first** - please go to 'File' and select 'Save a copy in Drive' so that you have your own version of this activity set up and ready to use.\n",
        "Remember to update the portfolio index link to your own work once completed!"
      ],
      "metadata": {
        "id": "cbtFdN5VQsms"
      }
    },
    {
      "cell_type": "markdown",
      "source": [
        "# Demonstration 6.2.3 Clustering evaluation methods\n",
        "\n",
        "Follow the demonstration to calculate the Davies-Bouldin index in Python. In this video, you will learn how to calculate the DBI for 2, 3, and $k$ clusters."
      ],
      "metadata": {
        "id": "LIrag9UBW4Gx"
      }
    },
    {
      "cell_type": "markdown",
      "source": [
        "## a. Davies-Bouldin index for 2 clusters\n",
        "\n",
        "Let's assume we have two clusters, $C_1$ and $C_2$, with the following two-dimensional points:\n",
        "\n",
        "- $C_1$: Points $P{11} = (1,2)$, $P{12} = (2,3)$, and $P{13} = (1,3)$.\n",
        "- $C_2$: Points $P{21} = (5,6)$, $P{22} = (6,5)$, and $P{23} = (5,5)$.\n",
        "\n",
        "Step 1: Calculate the centroids $A_1$ and $A_2$ for both clusters.\n",
        "\n",
        "Step 2: Calculate $S_i$ for each cluster, the average Euclidean distance of points in the cluster to the centroid.\n",
        "\n",
        "Step 3: Calculate $M_{i,j}$, the Euclidean distance between centroids $A_1$ and $A_2$.\n",
        "\n",
        "Step 4: Compute $R_{i,j}$ for each pair of clusters.\n",
        "\n",
        "Step 5: Determine $D_i$ for each cluster,\n",
        "\n",
        "Based on the example with the provided cluster points:\n",
        "\n",
        "1. **Centroids Calculation:**\n",
        "   - Centroid of $C_1$, $A_1$, is approximately (1.33, 2.67).\n",
        "   - Centroid of $C_2$, $A_2$, is approximately (5.33, 5.33).\n",
        "\n",
        "2. **Internal Dispersion ($S_i$):**\n",
        "   - $S_1$, the average Euclidean distance of points in $C_1$ to $A_1$, is approximately 0.654.\n",
        "   - $S_2$, the average Euclidean distance of points in $C_2$ to $A_2$, is also approximately 0.654.\n",
        "\n",
        "3. **Centroid Separation ($M_i,j$):**\n",
        "   - $M_{1,2}$, the Euclidean distance between $A_1$ and $A_2$, is approximately 4.807.\n",
        "\n",
        "4. **DBI Calculation ($R_{i,j}$ and $D_i$):**\n",
        "   - $R_{1,2}$, which compares the internal dispersion of $C_1$ and $C_2$ against their separation, is approximately 0.272.\n",
        "   - Since we have only two clusters, $D_1 = R_{1,2}$ and $D_2 = R_{1,2}$, both are approximately 0.272.\n",
        "\n",
        "5. **Overall Davies-Bouldin Index:**\n",
        "   - The DBI is the average of $D_1$ and $D_2$, which in this case is 0.272.\n",
        "\n",
        "This low DBI value suggests that the clusters are well-separated and have low internal dispersion, indicating a good clustering result."
      ],
      "metadata": {
        "id": "dTrOpXNMXdLk"
      }
    },
    {
      "cell_type": "code",
      "execution_count": null,
      "metadata": {
        "id": "07jMZscsQLJ6",
        "colab": {
          "base_uri": "https://localhost:8080/"
        },
        "outputId": "a6bacea9-dc66-491a-eebc-0f3f7972314c"
      },
      "outputs": [
        {
          "output_type": "execute_result",
          "data": {
            "text/plain": [
              "(array([1.33333333, 2.66666667]),\n",
              " array([5.33333333, 5.33333333]),\n",
              " 0.6540388352636305,\n",
              " 0.6540388352636305,\n",
              " 4.8074017006186525,\n",
              " 0.2720966026947421,\n",
              " 0.2720966026947421,\n",
              " 0.2720966026947421,\n",
              " 0.2720966026947421)"
            ]
          },
          "metadata": {},
          "execution_count": 4
        }
      ],
      "source": [
        "# Import the necessary libraries.\n",
        "import numpy as np\n",
        "from scipy.spatial import distance\n",
        "\n",
        "# Define the points for each cluster.\n",
        "C1_points = np.array([(1, 2), (2, 3), (1, 3)])\n",
        "C2_points = np.array([(5, 6), (6, 5), (5, 5)])\n",
        "\n",
        "# Calculate the centroids A1 and A2.\n",
        "A1 = np.mean(C1_points, axis=0)\n",
        "A2 = np.mean(C2_points, axis=0)\n",
        "\n",
        "# Calculate Si for each cluster (average Euclidean distance to the centroid).\n",
        "S1 = np.mean([distance.euclidean(p, A1) for p in C1_points])\n",
        "S2 = np.mean([distance.euclidean(p, A2) for p in C2_points])\n",
        "\n",
        "# Calculate Mi,j (Euclidean distance between centroids).\n",
        "M12 = distance.euclidean(A1, A2)\n",
        "\n",
        "# Compute Ri,j for the pair of clusters.\n",
        "R12 = (S1 + S2) / M12\n",
        "\n",
        "# Determine Di for each cluster (here we only have one other cluster).\n",
        "D1 = R12\n",
        "D2 = R12\n",
        "\n",
        "# Calculate the Davies-Bouldin Index (DBI).\n",
        "DBI = np.mean([D1, D2])\n",
        "\n",
        "(A1, A2, S1, S2, M12, R12, D1, D2, DBI)"
      ]
    },
    {
      "cell_type": "markdown",
      "source": [
        "## b. Davies-Bouldin index for 3 clusters\n",
        "\n",
        "With three clusters, let's examine the calculation steps:\n",
        "\n",
        "1. **Centroids Calculation:**\n",
        "   - Centroid of $C_1, A_1$, is approximately (1.33, 2.67).\n",
        "   - Centroid of $C_2, A_2$, is approximately (5.33, 5.33).\n",
        "   - Centroid of $C_3, A$3$, is approximately (8.33, 8.33).\n",
        "\n",
        "2. **Internal Dispersion ($S_i$):**\n",
        "   - $S_1$, $S_2$, and $S_3$ are the average Euclidean distances within clusters $C_1$, $C_2$, and $C_3$ to their centroids, respectively. All have a value of approximately 0.654.\n",
        "\n",
        "3. **Centroid Separation (Mi,j):**\n",
        "   - $M_{1,2}$, $M_{1,3}$, and $M_{2,3}$ are the Euclidean distances between the centroids of different pairs of clusters:\n",
        "   - Between $C_1$ and $C_2$, $M_{1,2}$ is approximately 4.807"
      ],
      "metadata": {
        "id": "RBkSNvQzaJnq"
      }
    },
    {
      "cell_type": "code",
      "source": [
        "# Define the points for three clusters now.\n",
        "C1_points = np.array([(1, 2), (2, 3), (1, 3)])\n",
        "C2_points = np.array([(5, 6), (6, 5), (5, 5)])\n",
        "C3_points = np.array([(8, 9), (9, 8), (8, 8)])\n",
        "\n",
        "# Calculate the centroids A1, A2, and A3 for all clusters.\n",
        "A1 = np.mean(C1_points, axis=0)\n",
        "A2 = np.mean(C2_points, axis=0)\n",
        "A3 = np.mean(C3_points, axis=0)\n",
        "\n",
        "# Calculate Si for each cluster (average Euclidean distance to the centroid).\n",
        "S1 = np.mean([distance.euclidean(p, A1) for p in C1_points])\n",
        "S2 = np.mean([distance.euclidean(p, A2) for p in C2_points])\n",
        "S3 = np.mean([distance.euclidean(p, A3) for p in C3_points])\n",
        "\n",
        "# Calculate Mi,j (Euclidean distance between centroids of different clusters).\n",
        "M12 = distance.euclidean(A1, A2)\n",
        "M13 = distance.euclidean(A1, A3)\n",
        "M23 = distance.euclidean(A2, A3)\n",
        "\n",
        "# Compute Ri,j for each pair of clusters.\n",
        "R12 = (S1 + S2) / M12\n",
        "R13 = (S1 + S3) / M13\n",
        "R23 = (S2 + S3) / M23\n",
        "\n",
        "# Determine Di for each cluster (maximum Rij for each cluster compared to all others).\n",
        "D1 = max(R12, R13)\n",
        "D2 = max(R12, R23)\n",
        "D3 = max(R13, R23)\n",
        "\n",
        "# Calculate the Davies-Bouldin Index (DBI) as the average of all Di values.\n",
        "DBI = np.mean([D1, D2, D3])\n",
        "\n",
        "# Collect all results in a dictionary for better readability.\n",
        "results = {\"A1\": A1, \"A2\": A2, \"A3\": A3,\n",
        "           \"S1\": S1, \"S2\": S2, \"S3\": S3,\n",
        "           \"M12\": M12, \"M13\": M13, \"M23\": M23,\n",
        "           \"R12\": R12, \"R13\": R13, \"R23\": R23,\n",
        "           \"D1\": D1, \"D2\": D2, \"D3\": D3,\n",
        "           \"DBI\": DBI}\n",
        "\n",
        "results"
      ],
      "metadata": {
        "colab": {
          "base_uri": "https://localhost:8080/"
        },
        "id": "P9N4KgX8aILg",
        "outputId": "c1cebfb7-6aee-4802-eff0-c30dc33cbdaf"
      },
      "execution_count": null,
      "outputs": [
        {
          "output_type": "execute_result",
          "data": {
            "text/plain": [
              "{'A1': array([1.33333333, 2.66666667]),\n",
              " 'A2': array([5.33333333, 5.33333333]),\n",
              " 'A3': array([8.33333333, 8.33333333]),\n",
              " 'S1': 0.6540388352636305,\n",
              " 'S2': 0.6540388352636305,\n",
              " 'S3': 0.6540388352636306,\n",
              " 'M12': 4.8074017006186525,\n",
              " 'M13': 9.006170724070865,\n",
              " 'M23': 4.2426406871192865,\n",
              " 'R12': 0.2720966026947421,\n",
              " 'R13': 0.14524237998633,\n",
              " 'R23': 0.30831686371617617,\n",
              " 'D1': 0.2720966026947421,\n",
              " 'D2': 0.30831686371617617,\n",
              " 'D3': 0.30831686371617617,\n",
              " 'DBI': 0.29624344337569813}"
            ]
          },
          "metadata": {},
          "execution_count": 5
        }
      ]
    },
    {
      "cell_type": "markdown",
      "source": [
        "## c. Davies-Bouldin index for $k$ clusters\n",
        "\n",
        "The function `calculate_dbi` computes the Davies-Bouldin Index (DBI) for $k$ clusters. Given the example with three clusters, the DBI is approximately 0.296, and here are the details:\n",
        "\n",
        "- **Centroids** of the clusters are approximately:\n",
        "  - $A_1 = [1.33, 2.67]$\n",
        "  - $A_2 = [5.33, 5.33]$\n",
        "  - $A_3 = [8.33, 8.33]$\n",
        "\n",
        "- **Internal Dispersion ($S_i$)** for each cluster:\n",
        "  - $S_1 \\approx S_2 \\approx S_3 \\approx 0.654$\n",
        "\n",
        "- **R values ($R_{i,j}$)**, which are the ratios of the sum of internal dispersions to the centroid separation for all pairs of clusters:\n",
        "  - $R_{1,2} \\approx 0.272$\n",
        "  - $R_{1,3} \\approx 0.145$\n",
        "  - $R_{2,3} \\approx 0.308$\n",
        "  - And the same values for the reverse pairs since $R{i,j} = R{j,i}$\n",
        "\n",
        "- **D values ($D_i$)**, the maximum $R_{i,j}$ value for each cluster:\n",
        "  - $D_1 \\approx 0.272$\n",
        "  - $D_2 \\approx 0.308$\n",
        "  - $D_3 \\approx 0.308$\n",
        "\n",
        "The function can be applied to any number of clusters to determine their DBI, allowing for an assessment of clustering quality across different clustering solutions."
      ],
      "metadata": {
        "id": "LeTZyaqtaH6J"
      }
    },
    {
      "cell_type": "code",
      "source": [
        "def calculate_dbi(clusters):\n",
        "    \"\"\"\n",
        "    Calculates the Davies-Bouldin Index for K clusters.\n",
        "\n",
        "    Parameters:\n",
        "    - clusters: A list of arrays, where each array represents the points in a cluster.\n",
        "\n",
        "    Returns:\n",
        "    - dbi: The Davies-Bouldin Index for the clusters.\n",
        "    - details: A dictionary containing centroids, internal dispersions, and R values for all cluster pairs.\n",
        "    \"\"\"\n",
        "    # Calculate the centroids.\n",
        "    centroids = [np.mean(cluster, axis=0) for cluster in clusters]\n",
        "\n",
        "    # Calculate Si for each cluster.\n",
        "    dispersions = [np.mean([distance.euclidean(p, centroid) for p in cluster]) for cluster, centroid in zip(clusters, centroids)]\n",
        "\n",
        "    # Calculate Mi,j for all cluster pairs and Ri,j values.\n",
        "    R_values = {}\n",
        "    for i, (centroid_i, dispersion_i) in enumerate(zip(centroids, dispersions)):\n",
        "        for j, (centroid_j, dispersion_j) in enumerate(zip(centroids, dispersions)):\n",
        "            if i != j:\n",
        "                Mij = distance.euclidean(centroid_i, centroid_j)\n",
        "                Rij = (dispersion_i + dispersion_j) / Mij\n",
        "                R_values[(i, j)] = Rij\n",
        "\n",
        "    # Determine Di for each cluster.\n",
        "    D_values = [max(R_values[(i, j)] for j in range(len(clusters)) if i != j) for i in range(len(clusters))]\n",
        "\n",
        "    # Calculate the Davies-Bouldin Index as the average of Di values.\n",
        "    dbi = np.mean(D_values)\n",
        "\n",
        "    # Collect all intermediate results for analysi.\n",
        "    details = {\"centroids\": centroids, \"dispersions\": dispersions,\n",
        "              \"R_values\": R_values, \"D_values\": D_values}\n",
        "\n",
        "    return dbi, details\n",
        "\n",
        "# Example usage with the previously defined clusters\n",
        "dbi, details = calculate_dbi([C1_points, C2_points, C3_points])\n",
        "dbi, details"
      ],
      "metadata": {
        "id": "ETlqxAZiXbMb",
        "colab": {
          "base_uri": "https://localhost:8080/"
        },
        "outputId": "544e1468-1faf-4b10-bd4a-8fc77b5ecf92"
      },
      "execution_count": null,
      "outputs": [
        {
          "output_type": "execute_result",
          "data": {
            "text/plain": [
              "(0.29624344337569813,\n",
              " {'centroids': [array([1.33333333, 2.66666667]),\n",
              "   array([5.33333333, 5.33333333]),\n",
              "   array([8.33333333, 8.33333333])],\n",
              "  'dispersions': [0.6540388352636305, 0.6540388352636305, 0.6540388352636306],\n",
              "  'R_values': {(0, 1): 0.2720966026947421,\n",
              "   (0, 2): 0.14524237998633,\n",
              "   (1, 0): 0.2720966026947421,\n",
              "   (1, 2): 0.30831686371617617,\n",
              "   (2, 0): 0.14524237998633,\n",
              "   (2, 1): 0.30831686371617617},\n",
              "  'D_values': [0.2720966026947421, 0.30831686371617617, 0.30831686371617617]})"
            ]
          },
          "metadata": {},
          "execution_count": 3
        }
      ]
    },
    {
      "cell_type": "markdown",
      "source": [
        "# Key information\n",
        "This demonstration illustrated how to calculate the DBI.\n",
        "\n",
        "## Reflect\n",
        "What are the pracitical applications of this technique?\n",
        "\n",
        "> Select the pen from the toolbar to add your entry."
      ],
      "metadata": {
        "id": "qjSjrsKPXtOr"
      }
    }
  ]
}